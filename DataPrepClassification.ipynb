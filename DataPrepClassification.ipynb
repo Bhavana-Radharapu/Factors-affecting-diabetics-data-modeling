{
 "cells": [
  {
   "cell_type": "code",
   "execution_count": 2,
   "metadata": {},
   "outputs": [],
   "source": [
    "# Load libraries\n",
    "import pandas as pd\n",
    "import matplotlib.pyplot as plt \n",
    "import seaborn as sns\n",
    "import numpy as np\n",
    "from scipy.stats import ttest_ind\n",
    "\n",
    "from sklearn.preprocessing import StandardScaler\n",
    "from sklearn.model_selection import train_test_split\n",
    "from sklearn.tree import DecisionTreeClassifier\n",
    "from sklearn.neighbors import KNeighborsClassifier\n",
    "from sklearn.svm import SVC\n",
    "from sklearn import metrics"
   ]
  },
  {
   "cell_type": "code",
   "execution_count": 3,
   "metadata": {},
   "outputs": [],
   "source": [
    "# Load dataset\n",
    "diabetes_data_binary = pd.read_csv('diabetes_data_upload.csv') \n",
    "diabetes_data_floats = pd.read_csv('diabetes-dataset.csv')"
   ]
  },
  {
   "cell_type": "code",
   "execution_count": 4,
   "metadata": {},
   "outputs": [
    {
     "name": "stdout",
     "output_type": "stream",
     "text": [
      "<class 'pandas.core.frame.DataFrame'>\n",
      "RangeIndex: 520 entries, 0 to 519\n",
      "Data columns (total 17 columns):\n",
      " #   Column              Non-Null Count  Dtype \n",
      "---  ------              --------------  ----- \n",
      " 0   Age                 520 non-null    int64 \n",
      " 1   Gender              520 non-null    object\n",
      " 2   Polyuria            520 non-null    object\n",
      " 3   Polydipsia          520 non-null    object\n",
      " 4   sudden weight loss  520 non-null    object\n",
      " 5   weakness            520 non-null    object\n",
      " 6   Polyphagia          520 non-null    object\n",
      " 7   Genital thrush      520 non-null    object\n",
      " 8   visual blurring     520 non-null    object\n",
      " 9   Itching             520 non-null    object\n",
      " 10  Irritability        520 non-null    object\n",
      " 11  delayed healing     520 non-null    object\n",
      " 12  partial paresis     520 non-null    object\n",
      " 13  muscle stiffness    520 non-null    object\n",
      " 14  Alopecia            520 non-null    object\n",
      " 15  Obesity             520 non-null    object\n",
      " 16  class               520 non-null    object\n",
      "dtypes: int64(1), object(16)\n",
      "memory usage: 69.2+ KB\n",
      "None\n"
     ]
    },
    {
     "data": {
      "text/html": [
       "<div>\n",
       "<style scoped>\n",
       "    .dataframe tbody tr th:only-of-type {\n",
       "        vertical-align: middle;\n",
       "    }\n",
       "\n",
       "    .dataframe tbody tr th {\n",
       "        vertical-align: top;\n",
       "    }\n",
       "\n",
       "    .dataframe thead th {\n",
       "        text-align: right;\n",
       "    }\n",
       "</style>\n",
       "<table border=\"1\" class=\"dataframe\">\n",
       "  <thead>\n",
       "    <tr style=\"text-align: right;\">\n",
       "      <th></th>\n",
       "      <th>Age</th>\n",
       "      <th>Gender</th>\n",
       "      <th>Polyuria</th>\n",
       "      <th>Polydipsia</th>\n",
       "      <th>sudden weight loss</th>\n",
       "      <th>weakness</th>\n",
       "      <th>Polyphagia</th>\n",
       "      <th>Genital thrush</th>\n",
       "      <th>visual blurring</th>\n",
       "      <th>Itching</th>\n",
       "      <th>Irritability</th>\n",
       "      <th>delayed healing</th>\n",
       "      <th>partial paresis</th>\n",
       "      <th>muscle stiffness</th>\n",
       "      <th>Alopecia</th>\n",
       "      <th>Obesity</th>\n",
       "      <th>class</th>\n",
       "    </tr>\n",
       "  </thead>\n",
       "  <tbody>\n",
       "    <tr>\n",
       "      <th>0</th>\n",
       "      <td>40</td>\n",
       "      <td>Male</td>\n",
       "      <td>No</td>\n",
       "      <td>Yes</td>\n",
       "      <td>No</td>\n",
       "      <td>Yes</td>\n",
       "      <td>No</td>\n",
       "      <td>No</td>\n",
       "      <td>No</td>\n",
       "      <td>Yes</td>\n",
       "      <td>No</td>\n",
       "      <td>Yes</td>\n",
       "      <td>No</td>\n",
       "      <td>Yes</td>\n",
       "      <td>Yes</td>\n",
       "      <td>Yes</td>\n",
       "      <td>Positive</td>\n",
       "    </tr>\n",
       "    <tr>\n",
       "      <th>1</th>\n",
       "      <td>58</td>\n",
       "      <td>Male</td>\n",
       "      <td>No</td>\n",
       "      <td>No</td>\n",
       "      <td>No</td>\n",
       "      <td>Yes</td>\n",
       "      <td>No</td>\n",
       "      <td>No</td>\n",
       "      <td>Yes</td>\n",
       "      <td>No</td>\n",
       "      <td>No</td>\n",
       "      <td>No</td>\n",
       "      <td>Yes</td>\n",
       "      <td>No</td>\n",
       "      <td>Yes</td>\n",
       "      <td>No</td>\n",
       "      <td>Positive</td>\n",
       "    </tr>\n",
       "    <tr>\n",
       "      <th>2</th>\n",
       "      <td>41</td>\n",
       "      <td>Male</td>\n",
       "      <td>Yes</td>\n",
       "      <td>No</td>\n",
       "      <td>No</td>\n",
       "      <td>Yes</td>\n",
       "      <td>Yes</td>\n",
       "      <td>No</td>\n",
       "      <td>No</td>\n",
       "      <td>Yes</td>\n",
       "      <td>No</td>\n",
       "      <td>Yes</td>\n",
       "      <td>No</td>\n",
       "      <td>Yes</td>\n",
       "      <td>Yes</td>\n",
       "      <td>No</td>\n",
       "      <td>Positive</td>\n",
       "    </tr>\n",
       "    <tr>\n",
       "      <th>3</th>\n",
       "      <td>45</td>\n",
       "      <td>Male</td>\n",
       "      <td>No</td>\n",
       "      <td>No</td>\n",
       "      <td>Yes</td>\n",
       "      <td>Yes</td>\n",
       "      <td>Yes</td>\n",
       "      <td>Yes</td>\n",
       "      <td>No</td>\n",
       "      <td>Yes</td>\n",
       "      <td>No</td>\n",
       "      <td>Yes</td>\n",
       "      <td>No</td>\n",
       "      <td>No</td>\n",
       "      <td>No</td>\n",
       "      <td>No</td>\n",
       "      <td>Positive</td>\n",
       "    </tr>\n",
       "    <tr>\n",
       "      <th>4</th>\n",
       "      <td>60</td>\n",
       "      <td>Male</td>\n",
       "      <td>Yes</td>\n",
       "      <td>Yes</td>\n",
       "      <td>Yes</td>\n",
       "      <td>Yes</td>\n",
       "      <td>Yes</td>\n",
       "      <td>No</td>\n",
       "      <td>Yes</td>\n",
       "      <td>Yes</td>\n",
       "      <td>Yes</td>\n",
       "      <td>Yes</td>\n",
       "      <td>Yes</td>\n",
       "      <td>Yes</td>\n",
       "      <td>Yes</td>\n",
       "      <td>Yes</td>\n",
       "      <td>Positive</td>\n",
       "    </tr>\n",
       "    <tr>\n",
       "      <th>5</th>\n",
       "      <td>55</td>\n",
       "      <td>Male</td>\n",
       "      <td>Yes</td>\n",
       "      <td>Yes</td>\n",
       "      <td>No</td>\n",
       "      <td>Yes</td>\n",
       "      <td>Yes</td>\n",
       "      <td>No</td>\n",
       "      <td>Yes</td>\n",
       "      <td>Yes</td>\n",
       "      <td>No</td>\n",
       "      <td>Yes</td>\n",
       "      <td>No</td>\n",
       "      <td>Yes</td>\n",
       "      <td>Yes</td>\n",
       "      <td>Yes</td>\n",
       "      <td>Positive</td>\n",
       "    </tr>\n",
       "    <tr>\n",
       "      <th>6</th>\n",
       "      <td>57</td>\n",
       "      <td>Male</td>\n",
       "      <td>Yes</td>\n",
       "      <td>Yes</td>\n",
       "      <td>No</td>\n",
       "      <td>Yes</td>\n",
       "      <td>Yes</td>\n",
       "      <td>Yes</td>\n",
       "      <td>No</td>\n",
       "      <td>No</td>\n",
       "      <td>No</td>\n",
       "      <td>Yes</td>\n",
       "      <td>Yes</td>\n",
       "      <td>No</td>\n",
       "      <td>No</td>\n",
       "      <td>No</td>\n",
       "      <td>Positive</td>\n",
       "    </tr>\n",
       "    <tr>\n",
       "      <th>7</th>\n",
       "      <td>66</td>\n",
       "      <td>Male</td>\n",
       "      <td>Yes</td>\n",
       "      <td>Yes</td>\n",
       "      <td>Yes</td>\n",
       "      <td>Yes</td>\n",
       "      <td>No</td>\n",
       "      <td>No</td>\n",
       "      <td>Yes</td>\n",
       "      <td>Yes</td>\n",
       "      <td>Yes</td>\n",
       "      <td>No</td>\n",
       "      <td>Yes</td>\n",
       "      <td>Yes</td>\n",
       "      <td>No</td>\n",
       "      <td>No</td>\n",
       "      <td>Positive</td>\n",
       "    </tr>\n",
       "    <tr>\n",
       "      <th>8</th>\n",
       "      <td>67</td>\n",
       "      <td>Male</td>\n",
       "      <td>Yes</td>\n",
       "      <td>Yes</td>\n",
       "      <td>No</td>\n",
       "      <td>Yes</td>\n",
       "      <td>Yes</td>\n",
       "      <td>Yes</td>\n",
       "      <td>No</td>\n",
       "      <td>Yes</td>\n",
       "      <td>Yes</td>\n",
       "      <td>No</td>\n",
       "      <td>Yes</td>\n",
       "      <td>Yes</td>\n",
       "      <td>No</td>\n",
       "      <td>Yes</td>\n",
       "      <td>Positive</td>\n",
       "    </tr>\n",
       "    <tr>\n",
       "      <th>9</th>\n",
       "      <td>70</td>\n",
       "      <td>Male</td>\n",
       "      <td>No</td>\n",
       "      <td>Yes</td>\n",
       "      <td>Yes</td>\n",
       "      <td>Yes</td>\n",
       "      <td>Yes</td>\n",
       "      <td>No</td>\n",
       "      <td>Yes</td>\n",
       "      <td>Yes</td>\n",
       "      <td>Yes</td>\n",
       "      <td>No</td>\n",
       "      <td>No</td>\n",
       "      <td>No</td>\n",
       "      <td>Yes</td>\n",
       "      <td>No</td>\n",
       "      <td>Positive</td>\n",
       "    </tr>\n",
       "  </tbody>\n",
       "</table>\n",
       "</div>"
      ],
      "text/plain": [
       "   Age Gender Polyuria Polydipsia sudden weight loss weakness Polyphagia  \\\n",
       "0   40   Male       No        Yes                 No      Yes         No   \n",
       "1   58   Male       No         No                 No      Yes         No   \n",
       "2   41   Male      Yes         No                 No      Yes        Yes   \n",
       "3   45   Male       No         No                Yes      Yes        Yes   \n",
       "4   60   Male      Yes        Yes                Yes      Yes        Yes   \n",
       "5   55   Male      Yes        Yes                 No      Yes        Yes   \n",
       "6   57   Male      Yes        Yes                 No      Yes        Yes   \n",
       "7   66   Male      Yes        Yes                Yes      Yes         No   \n",
       "8   67   Male      Yes        Yes                 No      Yes        Yes   \n",
       "9   70   Male       No        Yes                Yes      Yes        Yes   \n",
       "\n",
       "  Genital thrush visual blurring Itching Irritability delayed healing  \\\n",
       "0             No              No     Yes           No             Yes   \n",
       "1             No             Yes      No           No              No   \n",
       "2             No              No     Yes           No             Yes   \n",
       "3            Yes              No     Yes           No             Yes   \n",
       "4             No             Yes     Yes          Yes             Yes   \n",
       "5             No             Yes     Yes           No             Yes   \n",
       "6            Yes              No      No           No             Yes   \n",
       "7             No             Yes     Yes          Yes              No   \n",
       "8            Yes              No     Yes          Yes              No   \n",
       "9             No             Yes     Yes          Yes              No   \n",
       "\n",
       "  partial paresis muscle stiffness Alopecia Obesity     class  \n",
       "0              No              Yes      Yes     Yes  Positive  \n",
       "1             Yes               No      Yes      No  Positive  \n",
       "2              No              Yes      Yes      No  Positive  \n",
       "3              No               No       No      No  Positive  \n",
       "4             Yes              Yes      Yes     Yes  Positive  \n",
       "5              No              Yes      Yes     Yes  Positive  \n",
       "6             Yes               No       No      No  Positive  \n",
       "7             Yes              Yes       No      No  Positive  \n",
       "8             Yes              Yes       No     Yes  Positive  \n",
       "9              No               No      Yes      No  Positive  "
      ]
     },
     "execution_count": 4,
     "metadata": {},
     "output_type": "execute_result"
    }
   ],
   "source": [
    "# Display original binary dataset\n",
    "print(diabetes_data_binary.info())\n",
    "diabetes_data_binary.head(10)"
   ]
  },
  {
   "cell_type": "code",
   "execution_count": null,
   "metadata": {},
   "outputs": [],
   "source": []
  },
  {
   "cell_type": "code",
   "execution_count": 5,
   "metadata": {},
   "outputs": [],
   "source": [
    "# Map string values to int for the binary dataset\n",
    "\n",
    "# Convert Yes/No values to 1/0 values\n",
    "diabetes_data_binary = diabetes_data_binary.applymap(lambda x: 1 if x=='Yes' else x)\n",
    "diabetes_data_binary = diabetes_data_binary.applymap(lambda x: 0 if x=='No' else x)\n",
    "\n",
    "# Convert Pos/Neg values to 1/0 values\n",
    "diabetes_data_binary = diabetes_data_binary.applymap(lambda x: 1 if x=='Positive' else x)\n",
    "diabetes_data_binary = diabetes_data_binary.applymap(lambda x: 0 if x=='Negative' else x)\n",
    "\n",
    "# Rename Gender column to Male\n",
    "diabetes_data_binary = diabetes_data_binary.rename(columns={'Gender': 'Male'})\n",
    "\n",
    "# Convert Male/Female values to 1/0 values\n",
    "diabetes_data_binary['Male'] = diabetes_data_binary['Male'].map({'Male': 1, 'Female': 0})"
   ]
  },
  {
   "cell_type": "code",
   "execution_count": null,
   "metadata": {},
   "outputs": [],
   "source": []
  },
  {
   "cell_type": "code",
   "execution_count": 6,
   "metadata": {},
   "outputs": [
    {
     "name": "stdout",
     "output_type": "stream",
     "text": [
      "<class 'pandas.core.frame.DataFrame'>\n",
      "RangeIndex: 520 entries, 0 to 519\n",
      "Data columns (total 17 columns):\n",
      " #   Column              Non-Null Count  Dtype\n",
      "---  ------              --------------  -----\n",
      " 0   Age                 520 non-null    int64\n",
      " 1   Male                520 non-null    int64\n",
      " 2   Polyuria            520 non-null    int64\n",
      " 3   Polydipsia          520 non-null    int64\n",
      " 4   sudden weight loss  520 non-null    int64\n",
      " 5   weakness            520 non-null    int64\n",
      " 6   Polyphagia          520 non-null    int64\n",
      " 7   Genital thrush      520 non-null    int64\n",
      " 8   visual blurring     520 non-null    int64\n",
      " 9   Itching             520 non-null    int64\n",
      " 10  Irritability        520 non-null    int64\n",
      " 11  delayed healing     520 non-null    int64\n",
      " 12  partial paresis     520 non-null    int64\n",
      " 13  muscle stiffness    520 non-null    int64\n",
      " 14  Alopecia            520 non-null    int64\n",
      " 15  Obesity             520 non-null    int64\n",
      " 16  class               520 non-null    int64\n",
      "dtypes: int64(17)\n",
      "memory usage: 69.2 KB\n",
      "None\n"
     ]
    },
    {
     "data": {
      "text/html": [
       "<div>\n",
       "<style scoped>\n",
       "    .dataframe tbody tr th:only-of-type {\n",
       "        vertical-align: middle;\n",
       "    }\n",
       "\n",
       "    .dataframe tbody tr th {\n",
       "        vertical-align: top;\n",
       "    }\n",
       "\n",
       "    .dataframe thead th {\n",
       "        text-align: right;\n",
       "    }\n",
       "</style>\n",
       "<table border=\"1\" class=\"dataframe\">\n",
       "  <thead>\n",
       "    <tr style=\"text-align: right;\">\n",
       "      <th></th>\n",
       "      <th>Age</th>\n",
       "      <th>Male</th>\n",
       "      <th>Polyuria</th>\n",
       "      <th>Polydipsia</th>\n",
       "      <th>sudden weight loss</th>\n",
       "      <th>weakness</th>\n",
       "      <th>Polyphagia</th>\n",
       "      <th>Genital thrush</th>\n",
       "      <th>visual blurring</th>\n",
       "      <th>Itching</th>\n",
       "      <th>Irritability</th>\n",
       "      <th>delayed healing</th>\n",
       "      <th>partial paresis</th>\n",
       "      <th>muscle stiffness</th>\n",
       "      <th>Alopecia</th>\n",
       "      <th>Obesity</th>\n",
       "      <th>class</th>\n",
       "    </tr>\n",
       "  </thead>\n",
       "  <tbody>\n",
       "    <tr>\n",
       "      <th>0</th>\n",
       "      <td>40</td>\n",
       "      <td>1</td>\n",
       "      <td>0</td>\n",
       "      <td>1</td>\n",
       "      <td>0</td>\n",
       "      <td>1</td>\n",
       "      <td>0</td>\n",
       "      <td>0</td>\n",
       "      <td>0</td>\n",
       "      <td>1</td>\n",
       "      <td>0</td>\n",
       "      <td>1</td>\n",
       "      <td>0</td>\n",
       "      <td>1</td>\n",
       "      <td>1</td>\n",
       "      <td>1</td>\n",
       "      <td>1</td>\n",
       "    </tr>\n",
       "    <tr>\n",
       "      <th>1</th>\n",
       "      <td>58</td>\n",
       "      <td>1</td>\n",
       "      <td>0</td>\n",
       "      <td>0</td>\n",
       "      <td>0</td>\n",
       "      <td>1</td>\n",
       "      <td>0</td>\n",
       "      <td>0</td>\n",
       "      <td>1</td>\n",
       "      <td>0</td>\n",
       "      <td>0</td>\n",
       "      <td>0</td>\n",
       "      <td>1</td>\n",
       "      <td>0</td>\n",
       "      <td>1</td>\n",
       "      <td>0</td>\n",
       "      <td>1</td>\n",
       "    </tr>\n",
       "    <tr>\n",
       "      <th>2</th>\n",
       "      <td>41</td>\n",
       "      <td>1</td>\n",
       "      <td>1</td>\n",
       "      <td>0</td>\n",
       "      <td>0</td>\n",
       "      <td>1</td>\n",
       "      <td>1</td>\n",
       "      <td>0</td>\n",
       "      <td>0</td>\n",
       "      <td>1</td>\n",
       "      <td>0</td>\n",
       "      <td>1</td>\n",
       "      <td>0</td>\n",
       "      <td>1</td>\n",
       "      <td>1</td>\n",
       "      <td>0</td>\n",
       "      <td>1</td>\n",
       "    </tr>\n",
       "    <tr>\n",
       "      <th>3</th>\n",
       "      <td>45</td>\n",
       "      <td>1</td>\n",
       "      <td>0</td>\n",
       "      <td>0</td>\n",
       "      <td>1</td>\n",
       "      <td>1</td>\n",
       "      <td>1</td>\n",
       "      <td>1</td>\n",
       "      <td>0</td>\n",
       "      <td>1</td>\n",
       "      <td>0</td>\n",
       "      <td>1</td>\n",
       "      <td>0</td>\n",
       "      <td>0</td>\n",
       "      <td>0</td>\n",
       "      <td>0</td>\n",
       "      <td>1</td>\n",
       "    </tr>\n",
       "    <tr>\n",
       "      <th>4</th>\n",
       "      <td>60</td>\n",
       "      <td>1</td>\n",
       "      <td>1</td>\n",
       "      <td>1</td>\n",
       "      <td>1</td>\n",
       "      <td>1</td>\n",
       "      <td>1</td>\n",
       "      <td>0</td>\n",
       "      <td>1</td>\n",
       "      <td>1</td>\n",
       "      <td>1</td>\n",
       "      <td>1</td>\n",
       "      <td>1</td>\n",
       "      <td>1</td>\n",
       "      <td>1</td>\n",
       "      <td>1</td>\n",
       "      <td>1</td>\n",
       "    </tr>\n",
       "    <tr>\n",
       "      <th>...</th>\n",
       "      <td>...</td>\n",
       "      <td>...</td>\n",
       "      <td>...</td>\n",
       "      <td>...</td>\n",
       "      <td>...</td>\n",
       "      <td>...</td>\n",
       "      <td>...</td>\n",
       "      <td>...</td>\n",
       "      <td>...</td>\n",
       "      <td>...</td>\n",
       "      <td>...</td>\n",
       "      <td>...</td>\n",
       "      <td>...</td>\n",
       "      <td>...</td>\n",
       "      <td>...</td>\n",
       "      <td>...</td>\n",
       "      <td>...</td>\n",
       "    </tr>\n",
       "    <tr>\n",
       "      <th>515</th>\n",
       "      <td>39</td>\n",
       "      <td>0</td>\n",
       "      <td>1</td>\n",
       "      <td>1</td>\n",
       "      <td>1</td>\n",
       "      <td>0</td>\n",
       "      <td>1</td>\n",
       "      <td>0</td>\n",
       "      <td>0</td>\n",
       "      <td>1</td>\n",
       "      <td>0</td>\n",
       "      <td>1</td>\n",
       "      <td>1</td>\n",
       "      <td>0</td>\n",
       "      <td>0</td>\n",
       "      <td>0</td>\n",
       "      <td>1</td>\n",
       "    </tr>\n",
       "    <tr>\n",
       "      <th>516</th>\n",
       "      <td>48</td>\n",
       "      <td>0</td>\n",
       "      <td>1</td>\n",
       "      <td>1</td>\n",
       "      <td>1</td>\n",
       "      <td>1</td>\n",
       "      <td>1</td>\n",
       "      <td>0</td>\n",
       "      <td>0</td>\n",
       "      <td>1</td>\n",
       "      <td>1</td>\n",
       "      <td>1</td>\n",
       "      <td>1</td>\n",
       "      <td>0</td>\n",
       "      <td>0</td>\n",
       "      <td>0</td>\n",
       "      <td>1</td>\n",
       "    </tr>\n",
       "    <tr>\n",
       "      <th>517</th>\n",
       "      <td>58</td>\n",
       "      <td>0</td>\n",
       "      <td>1</td>\n",
       "      <td>1</td>\n",
       "      <td>1</td>\n",
       "      <td>1</td>\n",
       "      <td>1</td>\n",
       "      <td>0</td>\n",
       "      <td>1</td>\n",
       "      <td>0</td>\n",
       "      <td>0</td>\n",
       "      <td>0</td>\n",
       "      <td>1</td>\n",
       "      <td>1</td>\n",
       "      <td>0</td>\n",
       "      <td>1</td>\n",
       "      <td>1</td>\n",
       "    </tr>\n",
       "    <tr>\n",
       "      <th>518</th>\n",
       "      <td>32</td>\n",
       "      <td>0</td>\n",
       "      <td>0</td>\n",
       "      <td>0</td>\n",
       "      <td>0</td>\n",
       "      <td>1</td>\n",
       "      <td>0</td>\n",
       "      <td>0</td>\n",
       "      <td>1</td>\n",
       "      <td>1</td>\n",
       "      <td>0</td>\n",
       "      <td>1</td>\n",
       "      <td>0</td>\n",
       "      <td>0</td>\n",
       "      <td>1</td>\n",
       "      <td>0</td>\n",
       "      <td>0</td>\n",
       "    </tr>\n",
       "    <tr>\n",
       "      <th>519</th>\n",
       "      <td>42</td>\n",
       "      <td>1</td>\n",
       "      <td>0</td>\n",
       "      <td>0</td>\n",
       "      <td>0</td>\n",
       "      <td>0</td>\n",
       "      <td>0</td>\n",
       "      <td>0</td>\n",
       "      <td>0</td>\n",
       "      <td>0</td>\n",
       "      <td>0</td>\n",
       "      <td>0</td>\n",
       "      <td>0</td>\n",
       "      <td>0</td>\n",
       "      <td>0</td>\n",
       "      <td>0</td>\n",
       "      <td>0</td>\n",
       "    </tr>\n",
       "  </tbody>\n",
       "</table>\n",
       "<p>520 rows × 17 columns</p>\n",
       "</div>"
      ],
      "text/plain": [
       "     Age  Male  Polyuria  Polydipsia  sudden weight loss  weakness  \\\n",
       "0     40     1         0           1                   0         1   \n",
       "1     58     1         0           0                   0         1   \n",
       "2     41     1         1           0                   0         1   \n",
       "3     45     1         0           0                   1         1   \n",
       "4     60     1         1           1                   1         1   \n",
       "..   ...   ...       ...         ...                 ...       ...   \n",
       "515   39     0         1           1                   1         0   \n",
       "516   48     0         1           1                   1         1   \n",
       "517   58     0         1           1                   1         1   \n",
       "518   32     0         0           0                   0         1   \n",
       "519   42     1         0           0                   0         0   \n",
       "\n",
       "     Polyphagia  Genital thrush  visual blurring  Itching  Irritability  \\\n",
       "0             0               0                0        1             0   \n",
       "1             0               0                1        0             0   \n",
       "2             1               0                0        1             0   \n",
       "3             1               1                0        1             0   \n",
       "4             1               0                1        1             1   \n",
       "..          ...             ...              ...      ...           ...   \n",
       "515           1               0                0        1             0   \n",
       "516           1               0                0        1             1   \n",
       "517           1               0                1        0             0   \n",
       "518           0               0                1        1             0   \n",
       "519           0               0                0        0             0   \n",
       "\n",
       "     delayed healing  partial paresis  muscle stiffness  Alopecia  Obesity  \\\n",
       "0                  1                0                 1         1        1   \n",
       "1                  0                1                 0         1        0   \n",
       "2                  1                0                 1         1        0   \n",
       "3                  1                0                 0         0        0   \n",
       "4                  1                1                 1         1        1   \n",
       "..               ...              ...               ...       ...      ...   \n",
       "515                1                1                 0         0        0   \n",
       "516                1                1                 0         0        0   \n",
       "517                0                1                 1         0        1   \n",
       "518                1                0                 0         1        0   \n",
       "519                0                0                 0         0        0   \n",
       "\n",
       "     class  \n",
       "0        1  \n",
       "1        1  \n",
       "2        1  \n",
       "3        1  \n",
       "4        1  \n",
       "..     ...  \n",
       "515      1  \n",
       "516      1  \n",
       "517      1  \n",
       "518      0  \n",
       "519      0  \n",
       "\n",
       "[520 rows x 17 columns]"
      ]
     },
     "execution_count": 6,
     "metadata": {},
     "output_type": "execute_result"
    }
   ],
   "source": [
    "# Display binary dataset after data preparation\n",
    "print(diabetes_data_binary.info())\n",
    "diabetes_data_binary"
   ]
  },
  {
   "cell_type": "code",
   "execution_count": null,
   "metadata": {},
   "outputs": [],
   "source": []
  },
  {
   "cell_type": "code",
   "execution_count": null,
   "metadata": {},
   "outputs": [],
   "source": []
  },
  {
   "cell_type": "code",
   "execution_count": 7,
   "metadata": {},
   "outputs": [
    {
     "name": "stdout",
     "output_type": "stream",
     "text": [
      "<class 'pandas.core.frame.DataFrame'>\n",
      "RangeIndex: 2000 entries, 0 to 1999\n",
      "Data columns (total 9 columns):\n",
      " #   Column                    Non-Null Count  Dtype  \n",
      "---  ------                    --------------  -----  \n",
      " 0   Pregnancies               2000 non-null   int64  \n",
      " 1   Glucose                   2000 non-null   int64  \n",
      " 2   BloodPressure             2000 non-null   int64  \n",
      " 3   SkinThickness             2000 non-null   int64  \n",
      " 4   Insulin                   2000 non-null   int64  \n",
      " 5   BMI                       2000 non-null   float64\n",
      " 6   DiabetesPedigreeFunction  2000 non-null   float64\n",
      " 7   Age                       2000 non-null   int64  \n",
      " 8   Outcome                   2000 non-null   int64  \n",
      "dtypes: float64(2), int64(7)\n",
      "memory usage: 140.8 KB\n",
      "None\n"
     ]
    },
    {
     "data": {
      "text/html": [
       "<div>\n",
       "<style scoped>\n",
       "    .dataframe tbody tr th:only-of-type {\n",
       "        vertical-align: middle;\n",
       "    }\n",
       "\n",
       "    .dataframe tbody tr th {\n",
       "        vertical-align: top;\n",
       "    }\n",
       "\n",
       "    .dataframe thead th {\n",
       "        text-align: right;\n",
       "    }\n",
       "</style>\n",
       "<table border=\"1\" class=\"dataframe\">\n",
       "  <thead>\n",
       "    <tr style=\"text-align: right;\">\n",
       "      <th></th>\n",
       "      <th>Pregnancies</th>\n",
       "      <th>Glucose</th>\n",
       "      <th>BloodPressure</th>\n",
       "      <th>SkinThickness</th>\n",
       "      <th>Insulin</th>\n",
       "      <th>BMI</th>\n",
       "      <th>DiabetesPedigreeFunction</th>\n",
       "      <th>Age</th>\n",
       "      <th>Outcome</th>\n",
       "    </tr>\n",
       "  </thead>\n",
       "  <tbody>\n",
       "    <tr>\n",
       "      <th>0</th>\n",
       "      <td>2</td>\n",
       "      <td>138</td>\n",
       "      <td>62</td>\n",
       "      <td>35</td>\n",
       "      <td>0</td>\n",
       "      <td>33.6</td>\n",
       "      <td>0.127</td>\n",
       "      <td>47</td>\n",
       "      <td>1</td>\n",
       "    </tr>\n",
       "    <tr>\n",
       "      <th>1</th>\n",
       "      <td>0</td>\n",
       "      <td>84</td>\n",
       "      <td>82</td>\n",
       "      <td>31</td>\n",
       "      <td>125</td>\n",
       "      <td>38.2</td>\n",
       "      <td>0.233</td>\n",
       "      <td>23</td>\n",
       "      <td>0</td>\n",
       "    </tr>\n",
       "    <tr>\n",
       "      <th>2</th>\n",
       "      <td>0</td>\n",
       "      <td>145</td>\n",
       "      <td>0</td>\n",
       "      <td>0</td>\n",
       "      <td>0</td>\n",
       "      <td>44.2</td>\n",
       "      <td>0.630</td>\n",
       "      <td>31</td>\n",
       "      <td>1</td>\n",
       "    </tr>\n",
       "    <tr>\n",
       "      <th>3</th>\n",
       "      <td>0</td>\n",
       "      <td>135</td>\n",
       "      <td>68</td>\n",
       "      <td>42</td>\n",
       "      <td>250</td>\n",
       "      <td>42.3</td>\n",
       "      <td>0.365</td>\n",
       "      <td>24</td>\n",
       "      <td>1</td>\n",
       "    </tr>\n",
       "    <tr>\n",
       "      <th>4</th>\n",
       "      <td>1</td>\n",
       "      <td>139</td>\n",
       "      <td>62</td>\n",
       "      <td>41</td>\n",
       "      <td>480</td>\n",
       "      <td>40.7</td>\n",
       "      <td>0.536</td>\n",
       "      <td>21</td>\n",
       "      <td>0</td>\n",
       "    </tr>\n",
       "    <tr>\n",
       "      <th>5</th>\n",
       "      <td>0</td>\n",
       "      <td>173</td>\n",
       "      <td>78</td>\n",
       "      <td>32</td>\n",
       "      <td>265</td>\n",
       "      <td>46.5</td>\n",
       "      <td>1.159</td>\n",
       "      <td>58</td>\n",
       "      <td>0</td>\n",
       "    </tr>\n",
       "    <tr>\n",
       "      <th>6</th>\n",
       "      <td>4</td>\n",
       "      <td>99</td>\n",
       "      <td>72</td>\n",
       "      <td>17</td>\n",
       "      <td>0</td>\n",
       "      <td>25.6</td>\n",
       "      <td>0.294</td>\n",
       "      <td>28</td>\n",
       "      <td>0</td>\n",
       "    </tr>\n",
       "    <tr>\n",
       "      <th>7</th>\n",
       "      <td>8</td>\n",
       "      <td>194</td>\n",
       "      <td>80</td>\n",
       "      <td>0</td>\n",
       "      <td>0</td>\n",
       "      <td>26.1</td>\n",
       "      <td>0.551</td>\n",
       "      <td>67</td>\n",
       "      <td>0</td>\n",
       "    </tr>\n",
       "    <tr>\n",
       "      <th>8</th>\n",
       "      <td>2</td>\n",
       "      <td>83</td>\n",
       "      <td>65</td>\n",
       "      <td>28</td>\n",
       "      <td>66</td>\n",
       "      <td>36.8</td>\n",
       "      <td>0.629</td>\n",
       "      <td>24</td>\n",
       "      <td>0</td>\n",
       "    </tr>\n",
       "    <tr>\n",
       "      <th>9</th>\n",
       "      <td>2</td>\n",
       "      <td>89</td>\n",
       "      <td>90</td>\n",
       "      <td>30</td>\n",
       "      <td>0</td>\n",
       "      <td>33.5</td>\n",
       "      <td>0.292</td>\n",
       "      <td>42</td>\n",
       "      <td>0</td>\n",
       "    </tr>\n",
       "  </tbody>\n",
       "</table>\n",
       "</div>"
      ],
      "text/plain": [
       "   Pregnancies  Glucose  BloodPressure  SkinThickness  Insulin   BMI  \\\n",
       "0            2      138             62             35        0  33.6   \n",
       "1            0       84             82             31      125  38.2   \n",
       "2            0      145              0              0        0  44.2   \n",
       "3            0      135             68             42      250  42.3   \n",
       "4            1      139             62             41      480  40.7   \n",
       "5            0      173             78             32      265  46.5   \n",
       "6            4       99             72             17        0  25.6   \n",
       "7            8      194             80              0        0  26.1   \n",
       "8            2       83             65             28       66  36.8   \n",
       "9            2       89             90             30        0  33.5   \n",
       "\n",
       "   DiabetesPedigreeFunction  Age  Outcome  \n",
       "0                     0.127   47        1  \n",
       "1                     0.233   23        0  \n",
       "2                     0.630   31        1  \n",
       "3                     0.365   24        1  \n",
       "4                     0.536   21        0  \n",
       "5                     1.159   58        0  \n",
       "6                     0.294   28        0  \n",
       "7                     0.551   67        0  \n",
       "8                     0.629   24        0  \n",
       "9                     0.292   42        0  "
      ]
     },
     "execution_count": 7,
     "metadata": {},
     "output_type": "execute_result"
    }
   ],
   "source": [
    "# Display original integer/float dataset\n",
    "print(diabetes_data_floats.info())\n",
    "diabetes_data_floats.head(10)"
   ]
  },
  {
   "cell_type": "code",
   "execution_count": null,
   "metadata": {},
   "outputs": [],
   "source": []
  },
  {
   "cell_type": "code",
   "execution_count": 8,
   "metadata": {},
   "outputs": [],
   "source": [
    "# Count missing values for integers/floats dataset"
   ]
  },
  {
   "cell_type": "code",
   "execution_count": 9,
   "metadata": {},
   "outputs": [
    {
     "data": {
      "text/plain": [
       "13"
      ]
     },
     "execution_count": 9,
     "metadata": {},
     "output_type": "execute_result"
    }
   ],
   "source": [
    "diabetes_data_floats[diabetes_data_floats['Glucose']==0].shape[0]"
   ]
  },
  {
   "cell_type": "code",
   "execution_count": 10,
   "metadata": {},
   "outputs": [
    {
     "data": {
      "text/plain": [
       "90"
      ]
     },
     "execution_count": 10,
     "metadata": {},
     "output_type": "execute_result"
    }
   ],
   "source": [
    "diabetes_data_floats[diabetes_data_floats['BloodPressure']==0].shape[0]"
   ]
  },
  {
   "cell_type": "code",
   "execution_count": 11,
   "metadata": {},
   "outputs": [
    {
     "data": {
      "text/plain": [
       "573"
      ]
     },
     "execution_count": 11,
     "metadata": {},
     "output_type": "execute_result"
    }
   ],
   "source": [
    "diabetes_data_floats[diabetes_data_floats['SkinThickness']==0].shape[0]"
   ]
  },
  {
   "cell_type": "code",
   "execution_count": 12,
   "metadata": {},
   "outputs": [
    {
     "data": {
      "text/plain": [
       "956"
      ]
     },
     "execution_count": 12,
     "metadata": {},
     "output_type": "execute_result"
    }
   ],
   "source": [
    "diabetes_data_floats[diabetes_data_floats['Insulin']==0].shape[0]"
   ]
  },
  {
   "cell_type": "code",
   "execution_count": 13,
   "metadata": {},
   "outputs": [
    {
     "data": {
      "text/plain": [
       "252"
      ]
     },
     "execution_count": 13,
     "metadata": {},
     "output_type": "execute_result"
    }
   ],
   "source": [
    "diabetes_data_floats[diabetes_data_floats['BMI']==0].size"
   ]
  },
  {
   "cell_type": "code",
   "execution_count": null,
   "metadata": {},
   "outputs": [],
   "source": []
  },
  {
   "cell_type": "code",
   "execution_count": 14,
   "metadata": {},
   "outputs": [],
   "source": [
    "# Remove all observations with missing values\n",
    "diabetes_data_floats = diabetes_data_floats[diabetes_data_floats['Glucose']!=0]\n",
    "diabetes_data_floats = diabetes_data_floats[diabetes_data_floats['BloodPressure']!=0]\n",
    "diabetes_data_floats = diabetes_data_floats[diabetes_data_floats['SkinThickness']!=0]\n",
    "diabetes_data_floats = diabetes_data_floats[diabetes_data_floats['Insulin']!=0]\n",
    "diabetes_data_floats = diabetes_data_floats[diabetes_data_floats['BMI']!=0]"
   ]
  },
  {
   "cell_type": "code",
   "execution_count": null,
   "metadata": {},
   "outputs": [],
   "source": []
  },
  {
   "cell_type": "code",
   "execution_count": 15,
   "metadata": {},
   "outputs": [
    {
     "name": "stdout",
     "output_type": "stream",
     "text": [
      "<class 'pandas.core.frame.DataFrame'>\n",
      "Int64Index: 1035 entries, 1 to 1999\n",
      "Data columns (total 9 columns):\n",
      " #   Column                    Non-Null Count  Dtype  \n",
      "---  ------                    --------------  -----  \n",
      " 0   Pregnancies               1035 non-null   int64  \n",
      " 1   Glucose                   1035 non-null   int64  \n",
      " 2   BloodPressure             1035 non-null   int64  \n",
      " 3   SkinThickness             1035 non-null   int64  \n",
      " 4   Insulin                   1035 non-null   int64  \n",
      " 5   BMI                       1035 non-null   float64\n",
      " 6   DiabetesPedigreeFunction  1035 non-null   float64\n",
      " 7   Age                       1035 non-null   int64  \n",
      " 8   Outcome                   1035 non-null   int64  \n",
      "dtypes: float64(2), int64(7)\n",
      "memory usage: 80.9 KB\n",
      "None\n"
     ]
    },
    {
     "data": {
      "text/html": [
       "<div>\n",
       "<style scoped>\n",
       "    .dataframe tbody tr th:only-of-type {\n",
       "        vertical-align: middle;\n",
       "    }\n",
       "\n",
       "    .dataframe tbody tr th {\n",
       "        vertical-align: top;\n",
       "    }\n",
       "\n",
       "    .dataframe thead th {\n",
       "        text-align: right;\n",
       "    }\n",
       "</style>\n",
       "<table border=\"1\" class=\"dataframe\">\n",
       "  <thead>\n",
       "    <tr style=\"text-align: right;\">\n",
       "      <th></th>\n",
       "      <th>Pregnancies</th>\n",
       "      <th>Glucose</th>\n",
       "      <th>BloodPressure</th>\n",
       "      <th>SkinThickness</th>\n",
       "      <th>Insulin</th>\n",
       "      <th>BMI</th>\n",
       "      <th>DiabetesPedigreeFunction</th>\n",
       "      <th>Age</th>\n",
       "      <th>Outcome</th>\n",
       "    </tr>\n",
       "  </thead>\n",
       "  <tbody>\n",
       "    <tr>\n",
       "      <th>1</th>\n",
       "      <td>0</td>\n",
       "      <td>84</td>\n",
       "      <td>82</td>\n",
       "      <td>31</td>\n",
       "      <td>125</td>\n",
       "      <td>38.2</td>\n",
       "      <td>0.233</td>\n",
       "      <td>23</td>\n",
       "      <td>0</td>\n",
       "    </tr>\n",
       "    <tr>\n",
       "      <th>3</th>\n",
       "      <td>0</td>\n",
       "      <td>135</td>\n",
       "      <td>68</td>\n",
       "      <td>42</td>\n",
       "      <td>250</td>\n",
       "      <td>42.3</td>\n",
       "      <td>0.365</td>\n",
       "      <td>24</td>\n",
       "      <td>1</td>\n",
       "    </tr>\n",
       "    <tr>\n",
       "      <th>4</th>\n",
       "      <td>1</td>\n",
       "      <td>139</td>\n",
       "      <td>62</td>\n",
       "      <td>41</td>\n",
       "      <td>480</td>\n",
       "      <td>40.7</td>\n",
       "      <td>0.536</td>\n",
       "      <td>21</td>\n",
       "      <td>0</td>\n",
       "    </tr>\n",
       "    <tr>\n",
       "      <th>5</th>\n",
       "      <td>0</td>\n",
       "      <td>173</td>\n",
       "      <td>78</td>\n",
       "      <td>32</td>\n",
       "      <td>265</td>\n",
       "      <td>46.5</td>\n",
       "      <td>1.159</td>\n",
       "      <td>58</td>\n",
       "      <td>0</td>\n",
       "    </tr>\n",
       "    <tr>\n",
       "      <th>8</th>\n",
       "      <td>2</td>\n",
       "      <td>83</td>\n",
       "      <td>65</td>\n",
       "      <td>28</td>\n",
       "      <td>66</td>\n",
       "      <td>36.8</td>\n",
       "      <td>0.629</td>\n",
       "      <td>24</td>\n",
       "      <td>0</td>\n",
       "    </tr>\n",
       "    <tr>\n",
       "      <th>11</th>\n",
       "      <td>4</td>\n",
       "      <td>125</td>\n",
       "      <td>70</td>\n",
       "      <td>18</td>\n",
       "      <td>122</td>\n",
       "      <td>28.9</td>\n",
       "      <td>1.144</td>\n",
       "      <td>45</td>\n",
       "      <td>1</td>\n",
       "    </tr>\n",
       "    <tr>\n",
       "      <th>15</th>\n",
       "      <td>2</td>\n",
       "      <td>81</td>\n",
       "      <td>72</td>\n",
       "      <td>15</td>\n",
       "      <td>76</td>\n",
       "      <td>30.1</td>\n",
       "      <td>0.547</td>\n",
       "      <td>25</td>\n",
       "      <td>0</td>\n",
       "    </tr>\n",
       "    <tr>\n",
       "      <th>16</th>\n",
       "      <td>7</td>\n",
       "      <td>195</td>\n",
       "      <td>70</td>\n",
       "      <td>33</td>\n",
       "      <td>145</td>\n",
       "      <td>25.1</td>\n",
       "      <td>0.163</td>\n",
       "      <td>55</td>\n",
       "      <td>1</td>\n",
       "    </tr>\n",
       "    <tr>\n",
       "      <th>17</th>\n",
       "      <td>6</td>\n",
       "      <td>154</td>\n",
       "      <td>74</td>\n",
       "      <td>32</td>\n",
       "      <td>193</td>\n",
       "      <td>29.3</td>\n",
       "      <td>0.839</td>\n",
       "      <td>39</td>\n",
       "      <td>0</td>\n",
       "    </tr>\n",
       "    <tr>\n",
       "      <th>18</th>\n",
       "      <td>2</td>\n",
       "      <td>117</td>\n",
       "      <td>90</td>\n",
       "      <td>19</td>\n",
       "      <td>71</td>\n",
       "      <td>25.2</td>\n",
       "      <td>0.313</td>\n",
       "      <td>21</td>\n",
       "      <td>0</td>\n",
       "    </tr>\n",
       "  </tbody>\n",
       "</table>\n",
       "</div>"
      ],
      "text/plain": [
       "    Pregnancies  Glucose  BloodPressure  SkinThickness  Insulin   BMI  \\\n",
       "1             0       84             82             31      125  38.2   \n",
       "3             0      135             68             42      250  42.3   \n",
       "4             1      139             62             41      480  40.7   \n",
       "5             0      173             78             32      265  46.5   \n",
       "8             2       83             65             28       66  36.8   \n",
       "11            4      125             70             18      122  28.9   \n",
       "15            2       81             72             15       76  30.1   \n",
       "16            7      195             70             33      145  25.1   \n",
       "17            6      154             74             32      193  29.3   \n",
       "18            2      117             90             19       71  25.2   \n",
       "\n",
       "    DiabetesPedigreeFunction  Age  Outcome  \n",
       "1                      0.233   23        0  \n",
       "3                      0.365   24        1  \n",
       "4                      0.536   21        0  \n",
       "5                      1.159   58        0  \n",
       "8                      0.629   24        0  \n",
       "11                     1.144   45        1  \n",
       "15                     0.547   25        0  \n",
       "16                     0.163   55        1  \n",
       "17                     0.839   39        0  \n",
       "18                     0.313   21        0  "
      ]
     },
     "execution_count": 15,
     "metadata": {},
     "output_type": "execute_result"
    }
   ],
   "source": [
    "# Display integer/float dataset after data cleaning\n",
    "print(diabetes_data_floats.info())\n",
    "diabetes_data_floats.head(10)"
   ]
  },
  {
   "cell_type": "code",
   "execution_count": null,
   "metadata": {},
   "outputs": [],
   "source": []
  },
  {
   "cell_type": "code",
   "execution_count": null,
   "metadata": {},
   "outputs": [],
   "source": []
  },
  {
   "cell_type": "code",
   "execution_count": 16,
   "metadata": {},
   "outputs": [],
   "source": [
    "# Computing averages for diabetic and non-diabetic patients using integer/floats dataset"
   ]
  },
  {
   "cell_type": "code",
   "execution_count": 17,
   "metadata": {},
   "outputs": [
    {
     "name": "stdout",
     "output_type": "stream",
     "text": [
      "Pregnancies\n",
      "Non-Diabetic Mean: 2.603151862464183\n",
      "Diabetic Mean    : 4.3916913946587535\n",
      "\n",
      "Non-Diabetic std : 2.5541686931203627\n",
      "Diabetic std     : 3.8960819512872114\n",
      "\n"
     ]
    },
    {
     "data": {
      "text/plain": [
       "Ttest_indResult(statistic=7.669055764939621, pvalue=9.717868756815654e-14)"
      ]
     },
     "execution_count": 17,
     "metadata": {},
     "output_type": "execute_result"
    }
   ],
   "source": [
    "print(\"Pregnancies\")\n",
    "print(\"Non-Diabetic Mean:\", diabetes_data_floats[diabetes_data_floats['Outcome']==0]['Pregnancies'].mean())\n",
    "print(\"Diabetic Mean    :\", diabetes_data_floats[diabetes_data_floats['Outcome']==1]['Pregnancies'].mean())\n",
    "print()\n",
    "print(\"Non-Diabetic std :\", diabetes_data_floats[diabetes_data_floats['Outcome']==0]['Pregnancies'].std())\n",
    "print(\"Diabetic std     :\", diabetes_data_floats[diabetes_data_floats['Outcome']==1]['Pregnancies'].std())\n",
    "print()\n",
    "ttest_ind(diabetes_data_floats[diabetes_data_floats['Outcome']==1]['Pregnancies'], diabetes_data_floats[diabetes_data_floats['Outcome']==0]['Pregnancies'], equal_var=False)"
   ]
  },
  {
   "cell_type": "code",
   "execution_count": null,
   "metadata": {},
   "outputs": [],
   "source": []
  },
  {
   "cell_type": "code",
   "execution_count": 18,
   "metadata": {},
   "outputs": [
    {
     "name": "stdout",
     "output_type": "stream",
     "text": [
      "Glucose\n",
      "Non-Diabetic Mean: 111.7378223495702\n",
      "Diabetic Mean    : 145.84272997032642\n",
      "\n",
      "Non-Diabetic std : 24.606662425248683\n",
      "Diabetic std     : 29.136106337756964\n",
      "\n"
     ]
    },
    {
     "data": {
      "text/plain": [
       "Ttest_indResult(statistic=18.53284052946368, pvalue=1.862453776362188e-60)"
      ]
     },
     "execution_count": 18,
     "metadata": {},
     "output_type": "execute_result"
    }
   ],
   "source": [
    "print(\"Glucose\")\n",
    "print(\"Non-Diabetic Mean:\", diabetes_data_floats[diabetes_data_floats['Outcome']==0]['Glucose'].mean())\n",
    "print(\"Diabetic Mean    :\", diabetes_data_floats[diabetes_data_floats['Outcome']==1]['Glucose'].mean())\n",
    "print()\n",
    "print(\"Non-Diabetic std :\", diabetes_data_floats[diabetes_data_floats['Outcome']==0]['Glucose'].std())\n",
    "print(\"Diabetic std     :\", diabetes_data_floats[diabetes_data_floats['Outcome']==1]['Glucose'].std())\n",
    "print()\n",
    "ttest_ind(diabetes_data_floats[diabetes_data_floats['Outcome']==1]['Glucose'], diabetes_data_floats[diabetes_data_floats['Outcome']==0]['Glucose'], equal_var=False)"
   ]
  },
  {
   "cell_type": "code",
   "execution_count": null,
   "metadata": {},
   "outputs": [],
   "source": []
  },
  {
   "cell_type": "code",
   "execution_count": 19,
   "metadata": {},
   "outputs": [
    {
     "name": "stdout",
     "output_type": "stream",
     "text": [
      "BloodPressure \n",
      "Non-Diabetic Mean: 68.98424068767908\n",
      "Diabetic Mean    : 74.5727002967359\n",
      "\n",
      "Non-Diabetic std : 11.7922491534455\n",
      "Diabetic std     : 12.599422327405149\n",
      "\n"
     ]
    },
    {
     "data": {
      "text/plain": [
       "Ttest_indResult(statistic=6.825979203640128, pvalue=2.0666122575138323e-11)"
      ]
     },
     "execution_count": 19,
     "metadata": {},
     "output_type": "execute_result"
    }
   ],
   "source": [
    "print(\"BloodPressure \")\n",
    "print(\"Non-Diabetic Mean:\", diabetes_data_floats[diabetes_data_floats['Outcome']==0]['BloodPressure'].mean())\n",
    "print(\"Diabetic Mean    :\", diabetes_data_floats[diabetes_data_floats['Outcome']==1]['BloodPressure'].mean())\n",
    "print()\n",
    "print(\"Non-Diabetic std :\", diabetes_data_floats[diabetes_data_floats['Outcome']==0]['BloodPressure'].std())\n",
    "print(\"Diabetic std     :\", diabetes_data_floats[diabetes_data_floats['Outcome']==1]['BloodPressure'].std())\n",
    "print()\n",
    "ttest_ind(diabetes_data_floats[diabetes_data_floats['Outcome']==1]['BloodPressure'], diabetes_data_floats[diabetes_data_floats['Outcome']==0]['BloodPressure'], equal_var=False)"
   ]
  },
  {
   "cell_type": "code",
   "execution_count": null,
   "metadata": {},
   "outputs": [],
   "source": []
  },
  {
   "cell_type": "code",
   "execution_count": 20,
   "metadata": {},
   "outputs": [
    {
     "name": "stdout",
     "output_type": "stream",
     "text": [
      "SkinThickness \n",
      "Non-Diabetic Mean: 27.302292263610315\n",
      "Diabetic Mean    : 33.32640949554896\n",
      "\n",
      "Non-Diabetic std : 10.291672911794015\n",
      "Diabetic std     : 9.941809106994036\n",
      "\n"
     ]
    },
    {
     "data": {
      "text/plain": [
       "Ttest_indResult(statistic=9.0301455996166, pvalue=1.7188263087543889e-18)"
      ]
     },
     "execution_count": 20,
     "metadata": {},
     "output_type": "execute_result"
    }
   ],
   "source": [
    "print(\"SkinThickness \")\n",
    "print(\"Non-Diabetic Mean:\", diabetes_data_floats[diabetes_data_floats['Outcome']==0]['SkinThickness'].mean())\n",
    "print(\"Diabetic Mean    :\", diabetes_data_floats[diabetes_data_floats['Outcome']==1]['SkinThickness'].mean())\n",
    "print()\n",
    "print(\"Non-Diabetic std :\", diabetes_data_floats[diabetes_data_floats['Outcome']==0]['SkinThickness'].std())\n",
    "print(\"Diabetic std     :\", diabetes_data_floats[diabetes_data_floats['Outcome']==1]['SkinThickness'].std())\n",
    "print()\n",
    "ttest_ind(diabetes_data_floats[diabetes_data_floats['Outcome']==1]['SkinThickness'], diabetes_data_floats[diabetes_data_floats['Outcome']==0]['SkinThickness'], equal_var=False)"
   ]
  },
  {
   "cell_type": "code",
   "execution_count": null,
   "metadata": {},
   "outputs": [],
   "source": []
  },
  {
   "cell_type": "code",
   "execution_count": 21,
   "metadata": {},
   "outputs": [
    {
     "name": "stdout",
     "output_type": "stream",
     "text": [
      "Insulin \n",
      "Non-Diabetic Mean: 131.3595988538682\n",
      "Diabetic Mean    : 200.7299703264095\n",
      "\n",
      "Non-Diabetic std : 99.73279034570396\n",
      "Diabetic std     : 119.84536697766426\n",
      "\n"
     ]
    },
    {
     "data": {
      "text/plain": [
       "Ttest_indResult(statistic=9.198817762526524, pvalue=6.848789084574853e-19)"
      ]
     },
     "execution_count": 21,
     "metadata": {},
     "output_type": "execute_result"
    }
   ],
   "source": [
    "print(\"Insulin \")\n",
    "print(\"Non-Diabetic Mean:\", diabetes_data_floats[diabetes_data_floats['Outcome']==0]['Insulin'].mean())\n",
    "print(\"Diabetic Mean    :\", diabetes_data_floats[diabetes_data_floats['Outcome']==1]['Insulin'].mean())\n",
    "print()\n",
    "print(\"Non-Diabetic std :\", diabetes_data_floats[diabetes_data_floats['Outcome']==0]['Insulin'].std())\n",
    "print(\"Diabetic std     :\", diabetes_data_floats[diabetes_data_floats['Outcome']==1]['Insulin'].std())\n",
    "print()\n",
    "ttest_ind(diabetes_data_floats[diabetes_data_floats['Outcome']==1]['Insulin'], diabetes_data_floats[diabetes_data_floats['Outcome']==0]['Insulin'], equal_var=False)"
   ]
  },
  {
   "cell_type": "code",
   "execution_count": null,
   "metadata": {},
   "outputs": [],
   "source": []
  },
  {
   "cell_type": "code",
   "execution_count": 22,
   "metadata": {},
   "outputs": [
    {
     "name": "stdout",
     "output_type": "stream",
     "text": [
      "BMI \n",
      "Non-Diabetic Mean: 32.08939828080229\n",
      "Diabetic Mean    : 35.83086053412463\n",
      "\n",
      "Non-Diabetic std : 6.847662059242316\n",
      "Diabetic std     : 6.949854197349751\n",
      "\n"
     ]
    },
    {
     "data": {
      "text/plain": [
       "Ttest_indResult(statistic=8.154776053796434, pvalue=1.7833653506931635e-15)"
      ]
     },
     "execution_count": 22,
     "metadata": {},
     "output_type": "execute_result"
    }
   ],
   "source": [
    "print(\"BMI \")\n",
    "print(\"Non-Diabetic Mean:\", diabetes_data_floats[diabetes_data_floats['Outcome']==0]['BMI'].mean())\n",
    "print(\"Diabetic Mean    :\", diabetes_data_floats[diabetes_data_floats['Outcome']==1]['BMI'].mean())\n",
    "print()\n",
    "print(\"Non-Diabetic std :\", diabetes_data_floats[diabetes_data_floats['Outcome']==0]['BMI'].std())\n",
    "print(\"Diabetic std     :\", diabetes_data_floats[diabetes_data_floats['Outcome']==1]['BMI'].std())\n",
    "print()\n",
    "ttest_ind(diabetes_data_floats[diabetes_data_floats['Outcome']==1]['BMI'], diabetes_data_floats[diabetes_data_floats['Outcome']==0]['BMI'], equal_var=False)"
   ]
  },
  {
   "cell_type": "code",
   "execution_count": null,
   "metadata": {},
   "outputs": [],
   "source": []
  },
  {
   "cell_type": "code",
   "execution_count": 23,
   "metadata": {},
   "outputs": [
    {
     "name": "stdout",
     "output_type": "stream",
     "text": [
      "Diabetes Pedigree Function\n",
      "Non-Diabetic Mean: 0.47991977077363895\n",
      "Diabetic Mean    : 0.6117329376854599\n",
      "\n",
      "Non-Diabetic std : 0.2939575738895091\n",
      "Diabetic std     : 0.38573929468677604\n",
      "\n"
     ]
    },
    {
     "data": {
      "text/plain": [
       "Ttest_indResult(statistic=5.543824040855261, pvalue=4.670348451789813e-08)"
      ]
     },
     "execution_count": 23,
     "metadata": {},
     "output_type": "execute_result"
    }
   ],
   "source": [
    "print(\"Diabetes Pedigree Function\")\n",
    "print(\"Non-Diabetic Mean:\", diabetes_data_floats[diabetes_data_floats['Outcome']==0]['DiabetesPedigreeFunction'].mean())\n",
    "print(\"Diabetic Mean    :\", diabetes_data_floats[diabetes_data_floats['Outcome']==1]['DiabetesPedigreeFunction'].mean())\n",
    "print()\n",
    "print(\"Non-Diabetic std :\", diabetes_data_floats[diabetes_data_floats['Outcome']==0]['DiabetesPedigreeFunction'].std())\n",
    "print(\"Diabetic std     :\", diabetes_data_floats[diabetes_data_floats['Outcome']==1]['DiabetesPedigreeFunction'].std())\n",
    "print()\n",
    "ttest_ind(diabetes_data_floats[diabetes_data_floats['Outcome']==1]['DiabetesPedigreeFunction'], diabetes_data_floats[diabetes_data_floats['Outcome']==0]['DiabetesPedigreeFunction'], equal_var=False)"
   ]
  },
  {
   "cell_type": "code",
   "execution_count": null,
   "metadata": {},
   "outputs": [],
   "source": []
  },
  {
   "cell_type": "code",
   "execution_count": null,
   "metadata": {},
   "outputs": [],
   "source": []
  },
  {
   "cell_type": "code",
   "execution_count": 24,
   "metadata": {},
   "outputs": [],
   "source": [
    "# Visualize feature statistics for non-diabetic and diabetic patients using integer/floats dataset"
   ]
  },
  {
   "cell_type": "code",
   "execution_count": 25,
   "metadata": {},
   "outputs": [
    {
     "data": {
      "text/plain": [
       "<matplotlib.axes._subplots.AxesSubplot at 0x21788ff5188>"
      ]
     },
     "execution_count": 25,
     "metadata": {},
     "output_type": "execute_result"
    },
    {
     "data": {
      "image/png": "[encoded data removed]",
      "text/plain": [
       "<Figure size 432x288 with 1 Axes>"
      ]
     },
     "metadata": {
      "needs_background": "light"
     },
     "output_type": "display_data"
    }
   ],
   "source": [
    "sns.boxplot(x='Outcome',y='Pregnancies',data=diabetes_data_floats)"
   ]
  },
  {
   "cell_type": "code",
   "execution_count": 26,
   "metadata": {},
   "outputs": [
    {
     "data": {
      "text/plain": [
       "<matplotlib.axes._subplots.AxesSubplot at 0x21788ef1848>"
      ]
     },
     "execution_count": 26,
     "metadata": {},
     "output_type": "execute_result"
    },
    {
     "data": {
      "image/png": "[encoded data removed]",
      "text/plain": [
       "<Figure size 432x288 with 1 Axes>"
      ]
     },
     "metadata": {
      "needs_background": "light"
     },
     "output_type": "display_data"
    }
   ],
   "source": [
    "sns.boxplot(x='Outcome',y='Glucose',data=diabetes_data_floats)"
   ]
  },
  {
   "cell_type": "code",
   "execution_count": 27,
   "metadata": {},
   "outputs": [
    {
     "data": {
      "text/plain": [
       "<matplotlib.axes._subplots.AxesSubplot at 0x2178b156a48>"
      ]
     },
     "execution_count": 27,
     "metadata": {},
     "output_type": "execute_result"
    },
    {
     "data": {
      "image/png": "[encoded data removed]",
      "text/plain": [
       "<Figure size 432x288 with 1 Axes>"
      ]
     },
     "metadata": {
      "needs_background": "light"
     },
     "output_type": "display_data"
    }
   ],
   "source": [
    "sns.boxplot(x='Outcome',y='BloodPressure',data=diabetes_data_floats)"
   ]
  },
  {
   "cell_type": "code",
   "execution_count": 28,
   "metadata": {},
   "outputs": [
    {
     "data": {
      "text/plain": [
       "<matplotlib.axes._subplots.AxesSubplot at 0x2178b0e0308>"
      ]
     },
     "execution_count": 28,
     "metadata": {},
     "output_type": "execute_result"
    },
    {
     "data": {
      "image/png": "[encoded data removed]",
      "text/plain": [
       "<Figure size 432x288 with 1 Axes>"
      ]
     },
     "metadata": {
      "needs_background": "light"
     },
     "output_type": "display_data"
    }
   ],
   "source": [
    "sns.boxplot(x='Outcome',y='SkinThickness',data=diabetes_data_floats)"
   ]
  },
  {
   "cell_type": "code",
   "execution_count": 29,
   "metadata": {},
   "outputs": [
    {
     "data": {
      "text/plain": [
       "<matplotlib.axes._subplots.AxesSubplot at 0x2178b27e788>"
      ]
     },
     "execution_count": 29,
     "metadata": {},
     "output_type": "execute_result"
    },
    {
     "data": {
      "image/png": "[encoded data removed]",
      "text/plain": [
       "<Figure size 432x288 with 1 Axes>"
      ]
     },
     "metadata": {
      "needs_background": "light"
     },
     "output_type": "display_data"
    }
   ],
   "source": [
    "sns.boxplot(x='Outcome',y='Insulin',data=diabetes_data_floats)"
   ]
  },
  {
   "cell_type": "code",
   "execution_count": 30,
   "metadata": {},
   "outputs": [
    {
     "data": {
      "text/plain": [
       "<matplotlib.axes._subplots.AxesSubplot at 0x2178b30b988>"
      ]
     },
     "execution_count": 30,
     "metadata": {},
     "output_type": "execute_result"
    },
    {
     "data": {
      "image/png": "[encoded data removed]",
      "text/plain": [
       "<Figure size 432x288 with 1 Axes>"
      ]
     },
     "metadata": {
      "needs_background": "light"
     },
     "output_type": "display_data"
    }
   ],
   "source": [
    "sns.boxplot(x='Outcome',y='BMI',data=diabetes_data_floats)"
   ]
  },
  {
   "cell_type": "code",
   "execution_count": 31,
   "metadata": {},
   "outputs": [
    {
     "data": {
      "text/plain": [
       "<matplotlib.axes._subplots.AxesSubplot at 0x2178b381908>"
      ]
     },
     "execution_count": 31,
     "metadata": {},
     "output_type": "execute_result"
    },
    {
     "data": {
      "image/png": "[encoded data removed]",
      "text/plain": [
       "<Figure size 432x288 with 1 Axes>"
      ]
     },
     "metadata": {
      "needs_background": "light"
     },
     "output_type": "display_data"
    }
   ],
   "source": [
    "sns.boxplot(x='Outcome',y='DiabetesPedigreeFunction',data=diabetes_data_floats)"
   ]
  },
  {
   "cell_type": "code",
   "execution_count": 32,
   "metadata": {},
   "outputs": [
    {
     "data": {
      "text/plain": [
       "<matplotlib.axes._subplots.AxesSubplot at 0x2178b402a88>"
      ]
     },
     "execution_count": 32,
     "metadata": {},
     "output_type": "execute_result"
    },
    {
     "data": {
      "image/png": "[encoded data removed]",
      "text/plain": [
       "<Figure size 432x288 with 1 Axes>"
      ]
     },
     "metadata": {
      "needs_background": "light"
     },
     "output_type": "display_data"
    }
   ],
   "source": [
    "sns.boxplot(x='Outcome',y='Age',data=diabetes_data_floats)"
   ]
  },
  {
   "cell_type": "code",
   "execution_count": 33,
   "metadata": {},
   "outputs": [],
   "source": [
    "#Most relevant variables seem to be glucose,age,insulin,and skin thickness"
   ]
  },
  {
   "cell_type": "code",
   "execution_count": null,
   "metadata": {},
   "outputs": [],
   "source": []
  },
  {
   "cell_type": "code",
   "execution_count": 34,
   "metadata": {},
   "outputs": [],
   "source": [
    "# Visualize feature statistics for non-diabetic and diabetic patients using binary dataset"
   ]
  },
  {
   "cell_type": "code",
   "execution_count": 35,
   "metadata": {},
   "outputs": [
    {
     "data": {
      "text/plain": [
       "<matplotlib.axes._subplots.AxesSubplot at 0x2178b477208>"
      ]
     },
     "execution_count": 35,
     "metadata": {},
     "output_type": "execute_result"
    },
    {
     "data": {
      "image/png": "[encoded data removed]",
      "text/plain": [
       "<Figure size 432x288 with 1 Axes>"
      ]
     },
     "metadata": {
      "needs_background": "light"
     },
     "output_type": "display_data"
    }
   ],
   "source": [
    "sns.boxplot(x='class',y='Age',data=diabetes_data_binary)"
   ]
  },
  {
   "cell_type": "code",
   "execution_count": 36,
   "metadata": {},
   "outputs": [
    {
     "data": {
      "text/plain": [
       "<matplotlib.axes._subplots.AxesSubplot at 0x2178b4f8648>"
      ]
     },
     "execution_count": 36,
     "metadata": {},
     "output_type": "execute_result"
    },
    {
     "data": {
      "image/png": "[encoded data removed]",
      "text/plain": [
       "<Figure size 432x288 with 1 Axes>"
      ]
     },
     "metadata": {
      "needs_background": "light"
     },
     "output_type": "display_data"
    }
   ],
   "source": [
    "sns.barplot(x='class',y='Polyuria',data=diabetes_data_binary)"
   ]
  },
  {
   "cell_type": "code",
   "execution_count": 37,
   "metadata": {},
   "outputs": [
    {
     "data": {
      "text/plain": [
       "<matplotlib.axes._subplots.AxesSubplot at 0x2178b56c988>"
      ]
     },
     "execution_count": 37,
     "metadata": {},
     "output_type": "execute_result"
    },
    {
     "data": {
      "image/png": "[encoded data removed]",
      "text/plain": [
       "<Figure size 432x288 with 1 Axes>"
      ]
     },
     "metadata": {
      "needs_background": "light"
     },
     "output_type": "display_data"
    }
   ],
   "source": [
    "sns.barplot(x='class',y='Polydipsia',data=diabetes_data_binary)"
   ]
  },
  {
   "cell_type": "code",
   "execution_count": 38,
   "metadata": {},
   "outputs": [
    {
     "data": {
      "text/plain": [
       "<matplotlib.axes._subplots.AxesSubplot at 0x2178b5c47c8>"
      ]
     },
     "execution_count": 38,
     "metadata": {},
     "output_type": "execute_result"
    },
    {
     "data": {
      "image/png": "[encoded data removed]",
      "text/plain": [
       "<Figure size 432x288 with 1 Axes>"
      ]
     },
     "metadata": {
      "needs_background": "light"
     },
     "output_type": "display_data"
    }
   ],
   "source": [
    "sns.barplot(x='class',y='sudden weight loss',data=diabetes_data_binary)"
   ]
  },
  {
   "cell_type": "code",
   "execution_count": 39,
   "metadata": {},
   "outputs": [
    {
     "data": {
      "text/plain": [
       "<matplotlib.axes._subplots.AxesSubplot at 0x2178b629948>"
      ]
     },
     "execution_count": 39,
     "metadata": {},
     "output_type": "execute_result"
    },
    {
     "data": {
      "image/png": "[encoded data removed]",
      "text/plain": [
       "<Figure size 432x288 with 1 Axes>"
      ]
     },
     "metadata": {
      "needs_background": "light"
     },
     "output_type": "display_data"
    }
   ],
   "source": [
    "sns.barplot(x='class',y='weakness',data=diabetes_data_binary)"
   ]
  },
  {
   "cell_type": "code",
   "execution_count": 40,
   "metadata": {},
   "outputs": [
    {
     "data": {
      "text/plain": [
       "<matplotlib.axes._subplots.AxesSubplot at 0x2178b6909c8>"
      ]
     },
     "execution_count": 40,
     "metadata": {},
     "output_type": "execute_result"
    },
    {
     "data": {
      "image/png": "[encoded data removed]",
      "text/plain": [
       "<Figure size 432x288 with 1 Axes>"
      ]
     },
     "metadata": {
      "needs_background": "light"
     },
     "output_type": "display_data"
    }
   ],
   "source": [
    "sns.barplot(x='class',y='Polyphagia',data=diabetes_data_binary)"
   ]
  },
  {
   "cell_type": "code",
   "execution_count": 41,
   "metadata": {},
   "outputs": [
    {
     "data": {
      "text/plain": [
       "<matplotlib.axes._subplots.AxesSubplot at 0x2178b6ea688>"
      ]
     },
     "execution_count": 41,
     "metadata": {},
     "output_type": "execute_result"
    },
    {
     "data": {
      "image/png": "[encoded data removed]",
      "text/plain": [
       "<Figure size 432x288 with 1 Axes>"
      ]
     },
     "metadata": {
      "needs_background": "light"
     },
     "output_type": "display_data"
    }
   ],
   "source": [
    "sns.barplot(x='class',y='Genital thrush',data=diabetes_data_binary)"
   ]
  },
  {
   "cell_type": "code",
   "execution_count": 42,
   "metadata": {},
   "outputs": [
    {
     "data": {
      "text/plain": [
       "<matplotlib.axes._subplots.AxesSubplot at 0x2178b755048>"
      ]
     },
     "execution_count": 42,
     "metadata": {},
     "output_type": "execute_result"
    },
    {
     "data": {
      "image/png": "[encoded data removed]",
      "text/plain": [
       "<Figure size 432x288 with 1 Axes>"
      ]
     },
     "metadata": {
      "needs_background": "light"
     },
     "output_type": "display_data"
    }
   ],
   "source": [
    "sns.barplot(x='class',y='visual blurring',data=diabetes_data_binary)"
   ]
  },
  {
   "cell_type": "code",
   "execution_count": 43,
   "metadata": {},
   "outputs": [
    {
     "data": {
      "text/plain": [
       "<matplotlib.axes._subplots.AxesSubplot at 0x2178b6e64c8>"
      ]
     },
     "execution_count": 43,
     "metadata": {},
     "output_type": "execute_result"
    },
    {
     "data": {
      "image/png": "[encoded data removed]",
      "text/plain": [
       "<Figure size 432x288 with 1 Axes>"
      ]
     },
     "metadata": {
      "needs_background": "light"
     },
     "output_type": "display_data"
    }
   ],
   "source": [
    "sns.barplot(x='class',y='Itching',data=diabetes_data_binary)"
   ]
  },
  {
   "cell_type": "code",
   "execution_count": 44,
   "metadata": {},
   "outputs": [
    {
     "data": {
      "text/plain": [
       "<matplotlib.axes._subplots.AxesSubplot at 0x2178b80ee08>"
      ]
     },
     "execution_count": 44,
     "metadata": {},
     "output_type": "execute_result"
    },
    {
     "data": {
      "image/png": "[encoded data removed]",
      "text/plain": [
       "<Figure size 432x288 with 1 Axes>"
      ]
     },
     "metadata": {
      "needs_background": "light"
     },
     "output_type": "display_data"
    }
   ],
   "source": [
    "sns.barplot(x='class',y='Irritability',data=diabetes_data_binary)"
   ]
  },
  {
   "cell_type": "code",
   "execution_count": 45,
   "metadata": {},
   "outputs": [
    {
     "data": {
      "text/plain": [
       "<matplotlib.axes._subplots.AxesSubplot at 0x2178b0925c8>"
      ]
     },
     "execution_count": 45,
     "metadata": {},
     "output_type": "execute_result"
    },
    {
     "data": {
      "image/png": "[encoded data removed]",
      "text/plain": [
       "<Figure size 432x288 with 1 Axes>"
      ]
     },
     "metadata": {
      "needs_background": "light"
     },
     "output_type": "display_data"
    }
   ],
   "source": [
    "sns.barplot(x='class',y='delayed healing',data=diabetes_data_binary)"
   ]
  },
  {
   "cell_type": "code",
   "execution_count": 46,
   "metadata": {},
   "outputs": [
    {
     "data": {
      "text/plain": [
       "<matplotlib.axes._subplots.AxesSubplot at 0x2178c896948>"
      ]
     },
     "execution_count": 46,
     "metadata": {},
     "output_type": "execute_result"
    },
    {
     "data": {
      "image/png": "[encoded data removed]",
      "text/plain": [
       "<Figure size 432x288 with 1 Axes>"
      ]
     },
     "metadata": {
      "needs_background": "light"
     },
     "output_type": "display_data"
    }
   ],
   "source": [
    "sns.barplot(x='class',y='partial paresis',data=diabetes_data_binary)"
   ]
  },
  {
   "cell_type": "code",
   "execution_count": 47,
   "metadata": {},
   "outputs": [
    {
     "data": {
      "text/plain": [
       "<matplotlib.axes._subplots.AxesSubplot at 0x2178c8e9dc8>"
      ]
     },
     "execution_count": 47,
     "metadata": {},
     "output_type": "execute_result"
    },
    {
     "data": {
      "image/png": "[encoded data removed]",
      "text/plain": [
       "<Figure size 432x288 with 1 Axes>"
      ]
     },
     "metadata": {
      "needs_background": "light"
     },
     "output_type": "display_data"
    }
   ],
   "source": [
    "sns.barplot(x='class',y='muscle stiffness',data=diabetes_data_binary)"
   ]
  },
  {
   "cell_type": "code",
   "execution_count": 48,
   "metadata": {},
   "outputs": [
    {
     "data": {
      "text/plain": [
       "<matplotlib.axes._subplots.AxesSubplot at 0x2178c94abc8>"
      ]
     },
     "execution_count": 48,
     "metadata": {},
     "output_type": "execute_result"
    },
    {
     "data": {
      "image/png": "[encoded data removed]",
      "text/plain": [
       "<Figure size 432x288 with 1 Axes>"
      ]
     },
     "metadata": {
      "needs_background": "light"
     },
     "output_type": "display_data"
    }
   ],
   "source": [
    "sns.barplot(x='class',y='Alopecia',data=diabetes_data_binary)"
   ]
  },
  {
   "cell_type": "code",
   "execution_count": 49,
   "metadata": {},
   "outputs": [
    {
     "data": {
      "text/plain": [
       "<matplotlib.axes._subplots.AxesSubplot at 0x2178c9b1e88>"
      ]
     },
     "execution_count": 49,
     "metadata": {},
     "output_type": "execute_result"
    },
    {
     "data": {
      "image/png": "[encoded data removed]",
      "text/plain": [
       "<Figure size 432x288 with 1 Axes>"
      ]
     },
     "metadata": {
      "needs_background": "light"
     },
     "output_type": "display_data"
    }
   ],
   "source": [
    "sns.barplot(x='class',y='Obesity',data=diabetes_data_binary)"
   ]
  },
  {
   "cell_type": "code",
   "execution_count": 50,
   "metadata": {},
   "outputs": [],
   "source": [
    "#most relevant variables seem to be Polyuria,Polydipsia,sudden weight loss,partial paresis,irritability for binary dataset\n",
    "#most relevant variables for float dataset is Glucose, SkinThickness, Insulin, and Age."
   ]
  },
  {
   "cell_type": "code",
   "execution_count": 178,
   "metadata": {},
   "outputs": [],
   "source": [
    "#Classification on diabetes/float dataset\n",
    "#Some of the models the y_train needs to be reshaped using the ravel function or else a warning will appear\n",
    "#No change to the models if use ravel code or not"
   ]
  },
  {
   "cell_type": "code",
   "execution_count": 52,
   "metadata": {},
   "outputs": [],
   "source": [
    "# Partition dataset into training and validationg sets using 80-20 split\n",
    "x_train, x_val, y_train, y_val = train_test_split(diabetes_data_floats.drop(['Outcome'], axis=1), diabetes_data_floats[['Outcome']], test_size=0.2, random_state=0)"
   ]
  },
  {
   "cell_type": "code",
   "execution_count": 53,
   "metadata": {},
   "outputs": [
    {
     "name": "stdout",
     "output_type": "stream",
     "text": [
      "(828, 8)\n",
      "(828, 1)\n",
      "(207, 8)\n",
      "(207, 1)\n"
     ]
    }
   ],
   "source": [
    "print(x_train.shape)\n",
    "print(y_train.shape)\n",
    "print(x_val.shape)\n",
    "print(y_val.shape)"
   ]
  },
  {
   "cell_type": "code",
   "execution_count": 54,
   "metadata": {},
   "outputs": [],
   "source": [
    "scaler = StandardScaler() \n",
    "scaler.fit(x_train)\n",
    "x_train_scaled = scaler.transform(x_train) \n",
    "x_val_scaled = scaler.transform(x_val)"
   ]
  },
  {
   "cell_type": "code",
   "execution_count": 149,
   "metadata": {},
   "outputs": [
    {
     "data": {
      "text/plain": [
       "DecisionTreeClassifier(ccp_alpha=0.0, class_weight=None, criterion='entropy',\n",
       "                       max_depth=None, max_features=None, max_leaf_nodes=None,\n",
       "                       min_impurity_decrease=0.0, min_impurity_split=None,\n",
       "                       min_samples_leaf=1, min_samples_split=2,\n",
       "                       min_weight_fraction_leaf=0.0, presort='deprecated',\n",
       "                       random_state=None, splitter='best')"
      ]
     },
     "execution_count": 149,
     "metadata": {},
     "output_type": "execute_result"
    }
   ],
   "source": [
    "#Decision Trees using different criterions using the relevant variables found above \n",
    "Eclassifier = DecisionTreeClassifier(criterion=\"entropy\")\n",
    "Eclassifier.fit(x_train_scaled[:, [1, 3, 4, 7]],y_train)"
   ]
  },
  {
   "cell_type": "code",
   "execution_count": 150,
   "metadata": {},
   "outputs": [],
   "source": [
    "y_pred = Eclassifier.predict(x_val_scaled[:, [1, 3, 4, 7]])"
   ]
  },
  {
   "cell_type": "code",
   "execution_count": 151,
   "metadata": {},
   "outputs": [
    {
     "data": {
      "image/png": "[encoded data removed]",
      "text/plain": [
       "<Figure size 432x288 with 2 Axes>"
      ]
     },
     "metadata": {
      "needs_background": "light"
     },
     "output_type": "display_data"
    }
   ],
   "source": [
    "conf_matrix = metrics.confusion_matrix(y_val,y_pred)\n",
    "sns.heatmap(conf_matrix,annot=True,fmt=\".3f\",square = True, cmap = plt.cm.Blues)\n",
    "plt.ylabel('Actual')\n",
    "plt.xlabel('Predicted')\n",
    "plt.title('Entropy Decision Tree Confusion Matrix For Float Diabetes Dataset')\n",
    "plt.tight_layout()"
   ]
  },
  {
   "cell_type": "code",
   "execution_count": 152,
   "metadata": {},
   "outputs": [
    {
     "name": "stdout",
     "output_type": "stream",
     "text": [
      "[0.9806763285024155, 0.019323671497584516, array([0.98630137, 0.96721311]), array([0.98630137, 0.96721311]), array([0.98630137, 0.96721311])]\n"
     ]
    }
   ],
   "source": [
    "accuracy = metrics.accuracy_score(y_val,y_pred)\n",
    "error = 1 - accuracy\n",
    "precision = metrics.precision_score(y_val,y_pred,average = None)\n",
    "recall = metrics.recall_score(y_val,y_pred,average=None)\n",
    "F1_score = metrics.f1_score(y_val,y_pred,average = None)\n",
    "print([accuracy,error,precision,recall,F1_score])"
   ]
  },
  {
   "cell_type": "code",
   "execution_count": 153,
   "metadata": {},
   "outputs": [
    {
     "data": {
      "text/plain": [
       "DecisionTreeClassifier(ccp_alpha=0.0, class_weight=None, criterion='gini',\n",
       "                       max_depth=None, max_features=None, max_leaf_nodes=None,\n",
       "                       min_impurity_decrease=0.0, min_impurity_split=None,\n",
       "                       min_samples_leaf=1, min_samples_split=2,\n",
       "                       min_weight_fraction_leaf=0.0, presort='deprecated',\n",
       "                       random_state=None, splitter='best')"
      ]
     },
     "execution_count": 153,
     "metadata": {},
     "output_type": "execute_result"
    }
   ],
   "source": [
    "Eclassifier = DecisionTreeClassifier(criterion=\"gini\")\n",
    "Eclassifier.fit(x_train_scaled[:, [1, 3, 4, 7]],y_train)"
   ]
  },
  {
   "cell_type": "code",
   "execution_count": 154,
   "metadata": {},
   "outputs": [],
   "source": [
    "y_pred = Eclassifier.predict(x_val_scaled[:, [1, 3, 4, 7]])"
   ]
  },
  {
   "cell_type": "code",
   "execution_count": 155,
   "metadata": {},
   "outputs": [
    {
     "name": "stdout",
     "output_type": "stream",
     "text": [
      "[0.961352657004831, 0.03864734299516903, array([0.97260274, 0.93442623]), array([0.97260274, 0.93442623]), array([0.97260274, 0.93442623])]\n"
     ]
    }
   ],
   "source": [
    "accuracy = metrics.accuracy_score(y_val,y_pred)\n",
    "error = 1 - accuracy\n",
    "precision = metrics.precision_score(y_val,y_pred,average = None)\n",
    "recall = metrics.recall_score(y_val,y_pred,average=None)\n",
    "F1_score = metrics.f1_score(y_val,y_pred,average = None)\n",
    "print([accuracy,error,precision,recall,F1_score])"
   ]
  },
  {
   "cell_type": "code",
   "execution_count": 156,
   "metadata": {},
   "outputs": [],
   "source": [
    "#Entropy is better with a better accuracy and F1 score "
   ]
  },
  {
   "cell_type": "code",
   "execution_count": 157,
   "metadata": {},
   "outputs": [
    {
     "name": "stdout",
     "output_type": "stream",
     "text": [
      "2\n"
     ]
    }
   ],
   "source": [
    "#K-nearest Neighbors\n",
    "#Chose the best number of neighbors based of accuracy\n",
    "neighbors = [2,3,5,10,15,25,50]\n",
    "prevAccuracy = 0.0\n",
    "myN = 0\n",
    "for n in neighbors:\n",
    "    classifier = KNeighborsClassifier(n_neighbors = n)\n",
    "    classifier.fit(x_train_scaled[:, [1, 3, 4, 7]],y_train.values.ravel())\n",
    "    y_pred = classifier.predict(x_val_scaled[:, [1, 3, 4, 7]])\n",
    "    accuracy = metrics.accuracy_score(y_val,y_pred)\n",
    "    if(accuracy > prevAccuracy):\n",
    "        prevAccuracy = accuracy\n",
    "        myN = n\n",
    "\n",
    "print(myN)"
   ]
  },
  {
   "cell_type": "code",
   "execution_count": 158,
   "metadata": {},
   "outputs": [],
   "source": [
    "#2 is the best number of neighbors based on accuracy ''"
   ]
  },
  {
   "cell_type": "code",
   "execution_count": 159,
   "metadata": {},
   "outputs": [],
   "source": [
    "classifier = KNeighborsClassifier(n_neighbors = 2)\n",
    "classifier.fit(x_train_scaled[:, [1, 3, 4, 7]],y_train.values.ravel())\n",
    "y_pred = classifier.predict(x_val_scaled[:, [1, 3, 4, 7]])"
   ]
  },
  {
   "cell_type": "code",
   "execution_count": 160,
   "metadata": {},
   "outputs": [
    {
     "data": {
      "image/png": "[encoded data removed]",
      "text/plain": [
       "<Figure size 432x288 with 2 Axes>"
      ]
     },
     "metadata": {
      "needs_background": "light"
     },
     "output_type": "display_data"
    }
   ],
   "source": [
    "conf_matrix = metrics.confusion_matrix(y_val,y_pred)\n",
    "sns.heatmap(conf_matrix,annot=True,fmt=\".3f\",square = True, cmap = plt.cm.Blues)\n",
    "plt.ylabel('Actual')\n",
    "plt.xlabel('Predicted')\n",
    "plt.title('K=2 nearest neigbhors Confusion Matrix for Float Diabetes Dataset')\n",
    "plt.tight_layout()"
   ]
  },
  {
   "cell_type": "code",
   "execution_count": 161,
   "metadata": {},
   "outputs": [
    {
     "name": "stdout",
     "output_type": "stream",
     "text": [
      "[0.9323671497584541, 0.06763285024154586, array([0.92307692, 0.96078431]), array([0.98630137, 0.80327869]), array([0.95364238, 0.875     ])]\n"
     ]
    }
   ],
   "source": [
    "accuracy = metrics.accuracy_score(y_val,y_pred)\n",
    "error = 1 - accuracy\n",
    "precision = metrics.precision_score(y_val,y_pred,average = None)\n",
    "recall = metrics.recall_score(y_val,y_pred,average=None)\n",
    "F1_score = metrics.f1_score(y_val,y_pred,average = None)\n",
    "print([accuracy,error,precision,recall,F1_score])"
   ]
  },
  {
   "cell_type": "code",
   "execution_count": 162,
   "metadata": {},
   "outputs": [],
   "source": [
    "#Worse than the decision tree with entropy criterion"
   ]
  },
  {
   "cell_type": "code",
   "execution_count": 163,
   "metadata": {},
   "outputs": [
    {
     "data": {
      "image/png": "[encoded data removed]",
      "text/plain": [
       "<Figure size 432x288 with 2 Axes>"
      ]
     },
     "metadata": {
      "needs_background": "light"
     },
     "output_type": "display_data"
    }
   ],
   "source": [
    "#Svm for float dataset \n",
    "#Try to find the best kernel\n",
    "classifier = SVC(kernel = 'linear')\n",
    "classifier.fit(x_train_scaled[:, [1, 3, 4, 7]],y_train.values.ravel())\n",
    "y_pred = classifier.predict(x_val_scaled[:, [1, 3, 4, 7]])\n",
    "\n",
    "conf_matrix = metrics.confusion_matrix(y_val,y_pred)\n",
    "sns.heatmap(conf_matrix,annot=True,fmt=\".3f\",square = True, cmap = plt.cm.Blues)\n",
    "plt.ylabel('Actual')\n",
    "plt.xlabel('Predicted')\n",
    "plt.title('SVM linear kernel Confusion Matrix Diabetes Float')\n",
    "plt.tight_layout()"
   ]
  },
  {
   "cell_type": "code",
   "execution_count": 164,
   "metadata": {},
   "outputs": [
    {
     "name": "stdout",
     "output_type": "stream",
     "text": [
      "[0.8164251207729468, 0.18357487922705318, array([0.84615385, 0.7254902 ]), array([0.90410959, 0.60655738]), array([0.87417219, 0.66071429])]\n"
     ]
    }
   ],
   "source": [
    "accuracy = metrics.accuracy_score(y_val,y_pred)\n",
    "error = 1 - accuracy\n",
    "precision = metrics.precision_score(y_val,y_pred,average = None)\n",
    "recall = metrics.recall_score(y_val,y_pred,average=None)\n",
    "F1_score = metrics.f1_score(y_val,y_pred,average = None)\n",
    "print([accuracy,error,precision,recall,F1_score])"
   ]
  },
  {
   "cell_type": "code",
   "execution_count": 165,
   "metadata": {},
   "outputs": [],
   "source": [
    "#Worse than both k-nearest neighbors and decision tree"
   ]
  },
  {
   "cell_type": "code",
   "execution_count": 167,
   "metadata": {},
   "outputs": [
    {
     "data": {
      "image/png": "[encoded data removed]",
      "text/plain": [
       "<Figure size 432x288 with 2 Axes>"
      ]
     },
     "metadata": {
      "needs_background": "light"
     },
     "output_type": "display_data"
    }
   ],
   "source": [
    "classifier = SVC(kernel = 'poly')\n",
    "classifier.fit(x_train_scaled[:, [1, 3, 4, 7]],y_train.values.ravel())\n",
    "y_pred = classifier.predict(x_val_scaled[:, [1, 3, 4, 7]])\n",
    "\n",
    "conf_matrix = metrics.confusion_matrix(y_val,y_pred)\n",
    "sns.heatmap(conf_matrix,annot=True,fmt=\".3f\",square = True, cmap = plt.cm.Blues)\n",
    "plt.ylabel('Actual')\n",
    "plt.xlabel('Predicted')\n",
    "plt.title('SVM Poly kernel Confusion Matrix Diabetes Float')\n",
    "plt.tight_layout()"
   ]
  },
  {
   "cell_type": "code",
   "execution_count": 168,
   "metadata": {},
   "outputs": [
    {
     "name": "stdout",
     "output_type": "stream",
     "text": [
      "[0.8067632850241546, 0.19323671497584538, array([0.79444444, 0.88888889]), array([0.97945205, 0.39344262]), array([0.87730061, 0.54545455])]\n"
     ]
    }
   ],
   "source": [
    "accuracy = metrics.accuracy_score(y_val,y_pred)\n",
    "error = 1 - accuracy\n",
    "precision = metrics.precision_score(y_val,y_pred,average = None)\n",
    "recall = metrics.recall_score(y_val,y_pred,average=None)\n",
    "F1_score = metrics.f1_score(y_val,y_pred,average = None)\n",
    "print([accuracy,error,precision,recall,F1_score])"
   ]
  },
  {
   "cell_type": "code",
   "execution_count": 169,
   "metadata": {},
   "outputs": [],
   "source": [
    "#Worse than linear kernel"
   ]
  },
  {
   "cell_type": "code",
   "execution_count": 170,
   "metadata": {},
   "outputs": [
    {
     "data": {
      "image/png": "[encoded data removed]",
      "text/plain": [
       "<Figure size 432x288 with 2 Axes>"
      ]
     },
     "metadata": {
      "needs_background": "light"
     },
     "output_type": "display_data"
    }
   ],
   "source": [
    "classifier = SVC(kernel = 'rbf')\n",
    "classifier.fit(x_train_scaled[:, [1, 3, 4, 7]],y_train.values.ravel())\n",
    "y_pred = classifier.predict(x_val_scaled[:, [1, 3, 4, 7]])\n",
    "\n",
    "conf_matrix = metrics.confusion_matrix(y_val,y_pred)\n",
    "sns.heatmap(conf_matrix,annot=True,fmt=\".3f\",square = True, cmap = plt.cm.Blues)\n",
    "plt.ylabel('Actual')\n",
    "plt.xlabel('Predicted')\n",
    "plt.title('SVM RBF kernel Confusion Matrix Diabetes Float')\n",
    "plt.tight_layout()"
   ]
  },
  {
   "cell_type": "code",
   "execution_count": 171,
   "metadata": {},
   "outputs": [
    {
     "name": "stdout",
     "output_type": "stream",
     "text": [
      "[0.8067632850241546, 0.19323671497584538, array([0.83544304, 0.71428571]), array([0.90410959, 0.57377049]), array([0.86842105, 0.63636364])]\n"
     ]
    }
   ],
   "source": [
    "accuracy = metrics.accuracy_score(y_val,y_pred)\n",
    "error = 1 - accuracy\n",
    "precision = metrics.precision_score(y_val,y_pred,average = None)\n",
    "recall = metrics.recall_score(y_val,y_pred,average=None)\n",
    "F1_score = metrics.f1_score(y_val,y_pred,average = None)\n",
    "print([accuracy,error,precision,recall,F1_score])"
   ]
  },
  {
   "cell_type": "code",
   "execution_count": 172,
   "metadata": {},
   "outputs": [],
   "source": [
    "#Worse than linear but better than rbf with the F1 score. Decision tree is still best so far"
   ]
  },
  {
   "cell_type": "code",
   "execution_count": 173,
   "metadata": {},
   "outputs": [
    {
     "data": {
      "image/png": "[encoded data removed]",
      "text/plain": [
       "<Figure size 432x288 with 2 Axes>"
      ]
     },
     "metadata": {
      "needs_background": "light"
     },
     "output_type": "display_data"
    }
   ],
   "source": [
    "classifier = SVC(kernel = 'sigmoid')\n",
    "classifier.fit(x_train_scaled[:, [1, 3, 4, 7]],y_train.values.ravel())\n",
    "y_pred = classifier.predict(x_val_scaled[:, [1, 3, 4, 7]])\n",
    "\n",
    "conf_matrix = metrics.confusion_matrix(y_val,y_pred)\n",
    "sns.heatmap(conf_matrix,annot=True,fmt=\".3f\",square = True, cmap = plt.cm.Blues)\n",
    "plt.ylabel('Actual')\n",
    "plt.xlabel('Predicted')\n",
    "plt.title('SVM Sigmoid kernel Confusion Matrix Diabetes Float')\n",
    "plt.tight_layout()"
   ]
  },
  {
   "cell_type": "code",
   "execution_count": 174,
   "metadata": {},
   "outputs": [
    {
     "name": "stdout",
     "output_type": "stream",
     "text": [
      "[0.7536231884057971, 0.24637681159420288, array([0.82312925, 0.58333333]), array([0.82876712, 0.57377049]), array([0.82593857, 0.5785124 ])]\n"
     ]
    }
   ],
   "source": [
    "accuracy = metrics.accuracy_score(y_val,y_pred)\n",
    "error = 1 - accuracy\n",
    "precision = metrics.precision_score(y_val,y_pred,average = None)\n",
    "recall = metrics.recall_score(y_val,y_pred,average=None)\n",
    "F1_score = metrics.f1_score(y_val,y_pred,average = None)\n",
    "print([accuracy,error,precision,recall,F1_score])"
   ]
  },
  {
   "cell_type": "code",
   "execution_count": 175,
   "metadata": {},
   "outputs": [],
   "source": [
    "#The worst kernel. The best kernel is linear, best model so far is decision tree "
   ]
  },
  {
   "cell_type": "code",
   "execution_count": 176,
   "metadata": {},
   "outputs": [
    {
     "name": "stdout",
     "output_type": "stream",
     "text": [
      "0.1\n"
     ]
    }
   ],
   "source": [
    "\n",
    "# Now try to find the best c value\n",
    "# based on accuracy \n",
    "values = [0.001,0.01,0.1,0.5,1.0,5.0,10]\n",
    "prevAcc = 0.0\n",
    "cVal = -1\n",
    "for v in values:\n",
    "    classifier = SVC(kernel = 'linear', C = v)\n",
    "    classifier.fit(x_train_scaled[:, [1, 3, 4, 7]],y_train.values.ravel())\n",
    "    y_pred = classifier.predict(x_val_scaled[:, [1, 3, 4, 7]])\n",
    "    accuracy = metrics.accuracy_score(y_val,y_pred)\n",
    "    if(accuracy > prevAcc):\n",
    "        prevAcc = accuracy\n",
    "        cVal = v\n",
    "print(cVal)"
   ]
  },
  {
   "cell_type": "code",
   "execution_count": 197,
   "metadata": {},
   "outputs": [],
   "source": [
    "# best C val = 0.1\n",
    "classifier = SVC(kernel = 'linear', C = 0.1)\n",
    "classifier.fit(x_train_scaled[:, [1, 3, 4, 7]],y_train.values.ravel())\n",
    "y_pred = classifier.predict(x_val_scaled[:, [1, 3, 4, 7]])"
   ]
  },
  {
   "cell_type": "code",
   "execution_count": 198,
   "metadata": {},
   "outputs": [
    {
     "data": {
      "image/png": "[encoded data removed]",
      "text/plain": [
       "<Figure size 432x288 with 2 Axes>"
      ]
     },
     "metadata": {
      "needs_background": "light"
     },
     "output_type": "display_data"
    }
   ],
   "source": [
    "conf_matrix = metrics.confusion_matrix(y_val,y_pred)\n",
    "sns.heatmap(conf_matrix,annot=True,fmt=\".3f\",square = True, cmap = plt.cm.Blues)\n",
    "plt.ylabel('Actual')\n",
    "plt.xlabel('Predicted')\n",
    "plt.title('SVM linear,c=0.1 kernel Confusion Matrix Diabetes Float')\n",
    "plt.tight_layout()"
   ]
  },
  {
   "cell_type": "code",
   "execution_count": 199,
   "metadata": {},
   "outputs": [
    {
     "name": "stdout",
     "output_type": "stream",
     "text": [
      "[0.8164251207729468, 0.18357487922705318, array([0.84615385, 0.7254902 ]), array([0.90410959, 0.60655738]), array([0.87417219, 0.66071429])]\n"
     ]
    }
   ],
   "source": [
    "accuracy = metrics.accuracy_score(y_val,y_pred)\n",
    "error = 1 - accuracy\n",
    "precision = metrics.precision_score(y_val,y_pred,average = None)\n",
    "recall = metrics.recall_score(y_val,y_pred,average=None)\n",
    "F1_score = metrics.f1_score(y_val,y_pred,average = None)\n",
    "print([accuracy,error,precision,recall,F1_score])"
   ]
  },
  {
   "cell_type": "code",
   "execution_count": 182,
   "metadata": {},
   "outputs": [],
   "source": [
    "#The best svm model is still not as good as decision tree "
   ]
  },
  {
   "cell_type": "code",
   "execution_count": 183,
   "metadata": {},
   "outputs": [],
   "source": [
    "#Lets try the best models for each classification using all the variables to see if they give any extra insight.\n",
    "#Decision Trees using different criterions using the relevant variables found above \n",
    "Eclassifier = DecisionTreeClassifier(criterion=\"entropy\")\n",
    "Eclassifier.fit(x_train_scaled,y_train)\n",
    "y_pred = Eclassifier.predict(x_val_scaled)\n"
   ]
  },
  {
   "cell_type": "code",
   "execution_count": 184,
   "metadata": {},
   "outputs": [
    {
     "data": {
      "image/png": "[encoded data removed]",
      "text/plain": [
       "<Figure size 432x288 with 2 Axes>"
      ]
     },
     "metadata": {
      "needs_background": "light"
     },
     "output_type": "display_data"
    }
   ],
   "source": [
    "conf_matrix = metrics.confusion_matrix(y_val,y_pred)\n",
    "sns.heatmap(conf_matrix,annot=True,fmt=\".3f\",square = True, cmap = plt.cm.Blues)\n",
    "plt.ylabel('Actual')\n",
    "plt.xlabel('Predicted')\n",
    "plt.title('Entropy Decision Tree Confusion Matrix Diabetes/Float All Variables')\n",
    "plt.tight_layout()"
   ]
  },
  {
   "cell_type": "code",
   "execution_count": 185,
   "metadata": {},
   "outputs": [
    {
     "name": "stdout",
     "output_type": "stream",
     "text": [
      "[0.961352657004831, 0.03864734299516903, array([0.97260274, 0.93442623]), array([0.97260274, 0.93442623]), array([0.97260274, 0.93442623])]\n"
     ]
    }
   ],
   "source": [
    "accuracy = metrics.accuracy_score(y_val,y_pred)\n",
    "error = 1 - accuracy\n",
    "precision = metrics.precision_score(y_val,y_pred,average = None)\n",
    "recall = metrics.recall_score(y_val,y_pred,average=None)\n",
    "F1_score = metrics.f1_score(y_val,y_pred,average = None)\n",
    "print([accuracy,error,precision,recall,F1_score])"
   ]
  },
  {
   "cell_type": "code",
   "execution_count": 91,
   "metadata": {},
   "outputs": [],
   "source": [
    "#This model performs slightly worse than the other decision tree model with the subset of variables  "
   ]
  },
  {
   "cell_type": "code",
   "execution_count": 186,
   "metadata": {},
   "outputs": [],
   "source": [
    "# K=2 nearest neighbors with a c val of 0.1. All variables\n",
    "classifier = KNeighborsClassifier(n_neighbors = 2)\n",
    "classifier.fit(x_train_scaled,y_train.values.ravel())\n",
    "y_pred = classifier.predict(x_val_scaled)"
   ]
  },
  {
   "cell_type": "code",
   "execution_count": 189,
   "metadata": {},
   "outputs": [
    {
     "data": {
      "image/png": "[encoded data removed]",
      "text/plain": [
       "<Figure size 432x288 with 2 Axes>"
      ]
     },
     "metadata": {
      "needs_background": "light"
     },
     "output_type": "display_data"
    }
   ],
   "source": [
    "conf_matrix = metrics.confusion_matrix(y_val,y_pred)\n",
    "sns.heatmap(conf_matrix,annot=True,fmt=\".3f\",square = True, cmap = plt.cm.Blues)\n",
    "plt.ylabel('Actual')\n",
    "plt.xlabel('Predicted')\n",
    "plt.title(\"2 neighbors classifier Confusion Matrix Diabetes/Float All variables\")\n",
    "plt.tight_layout()"
   ]
  },
  {
   "cell_type": "code",
   "execution_count": 190,
   "metadata": {},
   "outputs": [
    {
     "name": "stdout",
     "output_type": "stream",
     "text": [
      "[0.7922705314009661, 0.20772946859903385, array([0.81595092, 0.70454545]), array([0.9109589 , 0.50819672]), array([0.86084142, 0.59047619])]\n"
     ]
    }
   ],
   "source": [
    "accuracy = metrics.accuracy_score(y_val,y_pred)\n",
    "error = 1 - accuracy\n",
    "precision = metrics.precision_score(y_val,y_pred,average = None)\n",
    "recall = metrics.recall_score(y_val,y_pred,average=None)\n",
    "F1_score = metrics.f1_score(y_val,y_pred,average = None)\n",
    "print([accuracy,error,precision,recall,F1_score])"
   ]
  },
  {
   "cell_type": "code",
   "execution_count": 191,
   "metadata": {},
   "outputs": [],
   "source": [
    "#Significantly worse model than the original subset of variables "
   ]
  },
  {
   "cell_type": "code",
   "execution_count": 195,
   "metadata": {},
   "outputs": [
    {
     "data": {
      "image/png": "[encoded data removed]",
      "text/plain": [
       "<Figure size 432x288 with 2 Axes>"
      ]
     },
     "metadata": {
      "needs_background": "light"
     },
     "output_type": "display_data"
    }
   ],
   "source": [
    "#SVM all variables\n",
    "classifier = SVC(kernel = 'linear',C=0.1)\n",
    "classifier.fit(x_train_scaled,y_train.values.ravel())\n",
    "y_pred = classifier.predict(x_val_scaled)\n",
    "\n",
    "conf_matrix = metrics.confusion_matrix(y_val,y_pred)\n",
    "sns.heatmap(conf_matrix,annot=True,fmt=\".3f\",square = True, cmap = plt.cm.Blues)\n",
    "plt.ylabel('Actual')\n",
    "plt.xlabel('Predicted')\n",
    "plt.title('SVM linear,c=0.1, Confusion Matrix Diabetes/Float All Variables')\n",
    "plt.tight_layout()"
   ]
  },
  {
   "cell_type": "code",
   "execution_count": 196,
   "metadata": {},
   "outputs": [
    {
     "name": "stdout",
     "output_type": "stream",
     "text": [
      "[0.7922705314009661, 0.20772946859903385, array([0.81595092, 0.70454545]), array([0.9109589 , 0.50819672]), array([0.86084142, 0.59047619])]\n"
     ]
    }
   ],
   "source": [
    "accuracy = metrics.accuracy_score(y_val,y_pred)\n",
    "error = 1 - accuracy\n",
    "precision = metrics.precision_score(y_val,y_pred,average = None)\n",
    "recall = metrics.recall_score(y_val,y_pred,average=None)\n",
    "F1_score = metrics.f1_score(y_val,y_pred,average = None)\n",
    "print([accuracy,error,precision,recall,F1_score])"
   ]
  },
  {
   "cell_type": "code",
   "execution_count": 200,
   "metadata": {},
   "outputs": [],
   "source": [
    "#Slightly worse than the original subset counterpart model"
   ]
  },
  {
   "cell_type": "code",
   "execution_count": 201,
   "metadata": {},
   "outputs": [],
   "source": [
    "#Best model for the diabetes float is decision tree subset of variables with entropy criterion. "
   ]
  },
  {
   "cell_type": "code",
   "execution_count": null,
   "metadata": {},
   "outputs": [],
   "source": []
  },
  {
   "cell_type": "code",
   "execution_count": 202,
   "metadata": {},
   "outputs": [],
   "source": [
    "#Run classification techniques on the binary dataset \n",
    "# Partition dataset into training and validationg sets using 80-20 split\n",
    "x_train, x_val, y_train, y_val = train_test_split(diabetes_data_binary.drop(['class'], axis=1), diabetes_data_binary[['class']], test_size=0.2, random_state=0)"
   ]
  },
  {
   "cell_type": "code",
   "execution_count": 203,
   "metadata": {},
   "outputs": [],
   "source": [
    "scaler = StandardScaler() \n",
    "scaler.fit(x_train)\n",
    "x_train_scaled = scaler.transform(x_train) \n",
    "x_val_scaled = scaler.transform(x_val)"
   ]
  },
  {
   "cell_type": "code",
   "execution_count": 204,
   "metadata": {},
   "outputs": [
    {
     "data": {
      "text/plain": [
       "DecisionTreeClassifier(ccp_alpha=0.0, class_weight=None, criterion='entropy',\n",
       "                       max_depth=None, max_features=None, max_leaf_nodes=None,\n",
       "                       min_impurity_decrease=0.0, min_impurity_split=None,\n",
       "                       min_samples_leaf=1, min_samples_split=2,\n",
       "                       min_weight_fraction_leaf=0.0, presort='deprecated',\n",
       "                       random_state=None, splitter='best')"
      ]
     },
     "execution_count": 204,
     "metadata": {},
     "output_type": "execute_result"
    }
   ],
   "source": [
    "#Decision Trees using different criterions using the relevant variables found above \n",
    "Eclassifier = DecisionTreeClassifier(criterion=\"entropy\")\n",
    "Eclassifier.fit(x_train_scaled[:, [2, 3, 4, 10,12]],y_train)"
   ]
  },
  {
   "cell_type": "code",
   "execution_count": 205,
   "metadata": {},
   "outputs": [],
   "source": [
    "y_pred = Eclassifier.predict(x_val_scaled[:, [2, 3, 4, 10,12]])"
   ]
  },
  {
   "cell_type": "code",
   "execution_count": 207,
   "metadata": {},
   "outputs": [
    {
     "data": {
      "image/png": "[encoded data removed]",
      "text/plain": [
       "<Figure size 432x288 with 2 Axes>"
      ]
     },
     "metadata": {
      "needs_background": "light"
     },
     "output_type": "display_data"
    }
   ],
   "source": [
    "conf_matrix = metrics.confusion_matrix(y_val,y_pred)\n",
    "sns.heatmap(conf_matrix,annot=True,fmt=\".3f\",square = True, cmap = plt.cm.Blues)\n",
    "plt.ylabel('Actual')\n",
    "plt.xlabel('Predicted')\n",
    "plt.title('Entropy Decision Tree Confusion Matrix For Binary Diabetes Dataset')\n",
    "plt.tight_layout()"
   ]
  },
  {
   "cell_type": "code",
   "execution_count": 208,
   "metadata": {},
   "outputs": [
    {
     "name": "stdout",
     "output_type": "stream",
     "text": [
      "[0.9038461538461539, 0.09615384615384615, array([0.96875, 0.875  ]), array([0.775   , 0.984375]), array([0.86111111, 0.92647059])]\n"
     ]
    }
   ],
   "source": [
    "accuracy = metrics.accuracy_score(y_val,y_pred)\n",
    "error = 1 - accuracy\n",
    "precision = metrics.precision_score(y_val,y_pred,average = None)\n",
    "recall = metrics.recall_score(y_val,y_pred,average=None)\n",
    "F1_score = metrics.f1_score(y_val,y_pred,average = None)\n",
    "print([accuracy,error,precision,recall,F1_score])"
   ]
  },
  {
   "cell_type": "code",
   "execution_count": 211,
   "metadata": {},
   "outputs": [
    {
     "data": {
      "image/png": "[encoded data removed]",
      "text/plain": [
       "<Figure size 432x288 with 2 Axes>"
      ]
     },
     "metadata": {
      "needs_background": "light"
     },
     "output_type": "display_data"
    }
   ],
   "source": [
    "#Now see gini criterion\n",
    "Eclassifier = DecisionTreeClassifier(criterion=\"gini\")\n",
    "Eclassifier.fit(x_train_scaled[:, [2, 3, 4, 10,12]],y_train)\n",
    "y_pred = Eclassifier.predict(x_val_scaled[:, [2, 3, 4, 10,12]])\n",
    "conf_matrix = metrics.confusion_matrix(y_val,y_pred)\n",
    "sns.heatmap(conf_matrix,annot=True,fmt=\".3f\",square = True, cmap = plt.cm.Blues)\n",
    "plt.ylabel('Actual')\n",
    "plt.xlabel('Predicted')\n",
    "plt.title('Gini Decision Tree Confusion Matrix For Binary Diabetes Dataset')\n",
    "plt.tight_layout()"
   ]
  },
  {
   "cell_type": "code",
   "execution_count": 212,
   "metadata": {},
   "outputs": [
    {
     "name": "stdout",
     "output_type": "stream",
     "text": [
      "[0.9038461538461539, 0.09615384615384615, array([0.96875, 0.875  ]), array([0.775   , 0.984375]), array([0.86111111, 0.92647059])]\n"
     ]
    }
   ],
   "source": [
    "accuracy = metrics.accuracy_score(y_val,y_pred)\n",
    "error = 1 - accuracy\n",
    "precision = metrics.precision_score(y_val,y_pred,average = None)\n",
    "recall = metrics.recall_score(y_val,y_pred,average=None)\n",
    "F1_score = metrics.f1_score(y_val,y_pred,average = None)\n",
    "print([accuracy,error,precision,recall,F1_score])"
   ]
  },
  {
   "cell_type": "code",
   "execution_count": 213,
   "metadata": {},
   "outputs": [],
   "source": [
    "#Exactly the same most likely due to the fact these values are binary "
   ]
  },
  {
   "cell_type": "code",
   "execution_count": 214,
   "metadata": {},
   "outputs": [
    {
     "name": "stdout",
     "output_type": "stream",
     "text": [
      "10\n"
     ]
    }
   ],
   "source": [
    "#K-nearest Neighbors\n",
    "#Chose the best number of neighbors based of accuracy\n",
    "neighbors = [2,3,5,10,15,25,50]\n",
    "prevAccuracy = 0.0\n",
    "myN = 0\n",
    "for n in neighbors:\n",
    "    classifier = KNeighborsClassifier(n_neighbors = n)\n",
    "    classifier.fit(x_train_scaled[:, [2, 3, 4, 10,12]],y_train.values.ravel())\n",
    "    y_pred = classifier.predict(x_val_scaled[:, [2, 3, 4, 10,12]])\n",
    "    accuracy = metrics.accuracy_score(y_val,y_pred)\n",
    "    if(accuracy > prevAccuracy):\n",
    "        prevAccuracy = accuracy\n",
    "        myN = n\n",
    "\n",
    "print(myN)"
   ]
  },
  {
   "cell_type": "code",
   "execution_count": 217,
   "metadata": {},
   "outputs": [
    {
     "data": {
      "image/png": "[encoded data removed]",
      "text/plain": [
       "<Figure size 432x288 with 2 Axes>"
      ]
     },
     "metadata": {
      "needs_background": "light"
     },
     "output_type": "display_data"
    }
   ],
   "source": [
    "#10 neighbors are the best here\n",
    "\n",
    "classifier = KNeighborsClassifier(n_neighbors = 10)\n",
    "classifier.fit(x_train_scaled[:, [2, 3, 4, 10,12]],y_train.values.ravel())\n",
    "y_pred = classifier.predict(x_val_scaled[:, [2, 3, 4, 10, 12]])\n",
    "conf_matrix = metrics.confusion_matrix(y_val,y_pred)\n",
    "sns.heatmap(conf_matrix,annot=True,fmt=\".3f\",square = True, cmap = plt.cm.Blues)\n",
    "plt.ylabel('Actual')\n",
    "plt.xlabel('Predicted')\n",
    "plt.title('K=10 nearest neigbhors Confusion Matrix for Binary Diabetes Dataset')\n",
    "plt.tight_layout()"
   ]
  },
  {
   "cell_type": "code",
   "execution_count": 218,
   "metadata": {},
   "outputs": [
    {
     "name": "stdout",
     "output_type": "stream",
     "text": [
      "[0.9230769230769231, 0.07692307692307687, array([0.9   , 0.9375]), array([0.9   , 0.9375]), array([0.9   , 0.9375])]\n"
     ]
    }
   ],
   "source": [
    "accuracy = metrics.accuracy_score(y_val,y_pred)\n",
    "error = 1 - accuracy\n",
    "precision = metrics.precision_score(y_val,y_pred,average = None)\n",
    "recall = metrics.recall_score(y_val,y_pred,average=None)\n",
    "F1_score = metrics.f1_score(y_val,y_pred,average = None)\n",
    "print([accuracy,error,precision,recall,F1_score])"
   ]
  },
  {
   "cell_type": "code",
   "execution_count": 219,
   "metadata": {},
   "outputs": [],
   "source": [
    "#Better than the decision tree results in accuracy and F1 score"
   ]
  },
  {
   "cell_type": "code",
   "execution_count": 223,
   "metadata": {},
   "outputs": [
    {
     "data": {
      "image/png": "[encoded data removed]",
      "text/plain": [
       "<Figure size 432x288 with 2 Axes>"
      ]
     },
     "metadata": {
      "needs_background": "light"
     },
     "output_type": "display_data"
    }
   ],
   "source": [
    "#Lets try SVMs \n",
    "classifier = SVC(kernel = 'linear')\n",
    "classifier.fit(x_train_scaled[:, [2, 3, 4, 10,12]],y_train.values.ravel())\n",
    "y_pred = classifier.predict(x_val_scaled[:, [2, 3, 4, 10,12]])\n",
    "\n",
    "conf_matrix = metrics.confusion_matrix(y_val,y_pred)\n",
    "sns.heatmap(conf_matrix,annot=True,fmt=\".3f\",square = True, cmap = plt.cm.Blues)\n",
    "plt.ylabel('Actual')\n",
    "plt.xlabel('Predicted')\n",
    "plt.title('SVM linear kernel Confusion Matrix Diabetes Binary')\n",
    "plt.tight_layout()"
   ]
  },
  {
   "cell_type": "code",
   "execution_count": 224,
   "metadata": {},
   "outputs": [
    {
     "name": "stdout",
     "output_type": "stream",
     "text": [
      "[0.9134615384615384, 0.08653846153846156, array([0.8974359 , 0.92307692]), array([0.875 , 0.9375]), array([0.88607595, 0.93023256])]\n"
     ]
    }
   ],
   "source": [
    "accuracy = metrics.accuracy_score(y_val,y_pred)\n",
    "error = 1 - accuracy\n",
    "precision = metrics.precision_score(y_val,y_pred,average = None)\n",
    "recall = metrics.recall_score(y_val,y_pred,average=None)\n",
    "F1_score = metrics.f1_score(y_val,y_pred,average = None)\n",
    "print([accuracy,error,precision,recall,F1_score])"
   ]
  },
  {
   "cell_type": "code",
   "execution_count": 225,
   "metadata": {},
   "outputs": [],
   "source": [
    "#Slightly better than decision tree and slightly worse than k-nearest neighbors "
   ]
  },
  {
   "cell_type": "code",
   "execution_count": 226,
   "metadata": {},
   "outputs": [
    {
     "data": {
      "image/png": "[encoded data removed]",
      "text/plain": [
       "<Figure size 432x288 with 2 Axes>"
      ]
     },
     "metadata": {
      "needs_background": "light"
     },
     "output_type": "display_data"
    }
   ],
   "source": [
    "classifier = SVC(kernel = 'poly')\n",
    "classifier.fit(x_train_scaled[:, [2, 3, 4, 10,12]],y_train.values.ravel())\n",
    "y_pred = classifier.predict(x_val_scaled[:, [2, 3, 4, 10, 12]])\n",
    "\n",
    "conf_matrix = metrics.confusion_matrix(y_val,y_pred)\n",
    "sns.heatmap(conf_matrix,annot=True,fmt=\".3f\",square = True, cmap = plt.cm.Blues)\n",
    "plt.ylabel('Actual')\n",
    "plt.xlabel('Predicted')\n",
    "plt.title('SVM Poly kernel Confusion Matrix Diabetes Binary')\n",
    "plt.tight_layout()"
   ]
  },
  {
   "cell_type": "code",
   "execution_count": 227,
   "metadata": {},
   "outputs": [
    {
     "name": "stdout",
     "output_type": "stream",
     "text": [
      "[0.9038461538461539, 0.09615384615384615, array([0.96875, 0.875  ]), array([0.775   , 0.984375]), array([0.86111111, 0.92647059])]\n"
     ]
    }
   ],
   "source": [
    "accuracy = metrics.accuracy_score(y_val,y_pred)\n",
    "error = 1 - accuracy\n",
    "precision = metrics.precision_score(y_val,y_pred,average = None)\n",
    "recall = metrics.recall_score(y_val,y_pred,average=None)\n",
    "F1_score = metrics.f1_score(y_val,y_pred,average = None)\n",
    "print([accuracy,error,precision,recall,F1_score])"
   ]
  },
  {
   "cell_type": "code",
   "execution_count": 228,
   "metadata": {},
   "outputs": [],
   "source": [
    "#About the same as decision trees, but worse than linear svm"
   ]
  },
  {
   "cell_type": "code",
   "execution_count": 229,
   "metadata": {},
   "outputs": [
    {
     "data": {
      "image/png": "[encoded data removed]",
      "text/plain": [
       "<Figure size 432x288 with 2 Axes>"
      ]
     },
     "metadata": {
      "needs_background": "light"
     },
     "output_type": "display_data"
    }
   ],
   "source": [
    "classifier = SVC(kernel = 'rbf')\n",
    "classifier.fit(x_train_scaled[:, [2, 3, 4, 10,12]],y_train.values.ravel())\n",
    "y_pred = classifier.predict(x_val_scaled[:, [2, 3, 4, 10,12]])\n",
    "\n",
    "conf_matrix = metrics.confusion_matrix(y_val,y_pred)\n",
    "sns.heatmap(conf_matrix,annot=True,fmt=\".3f\",square = True, cmap = plt.cm.Blues)\n",
    "plt.ylabel('Actual')\n",
    "plt.xlabel('Predicted')\n",
    "plt.title('SVM RBF kernel Confusion Matrix Diabetes Binary')\n",
    "plt.tight_layout()"
   ]
  },
  {
   "cell_type": "code",
   "execution_count": 230,
   "metadata": {},
   "outputs": [
    {
     "name": "stdout",
     "output_type": "stream",
     "text": [
      "[0.8942307692307693, 0.10576923076923073, array([1.        , 0.85333333]), array([0.725, 1.   ]), array([0.84057971, 0.92086331])]\n"
     ]
    }
   ],
   "source": [
    "accuracy = metrics.accuracy_score(y_val,y_pred)\n",
    "error = 1 - accuracy\n",
    "precision = metrics.precision_score(y_val,y_pred,average = None)\n",
    "recall = metrics.recall_score(y_val,y_pred,average=None)\n",
    "F1_score = metrics.f1_score(y_val,y_pred,average = None)\n",
    "print([accuracy,error,precision,recall,F1_score])"
   ]
  },
  {
   "cell_type": "code",
   "execution_count": 231,
   "metadata": {},
   "outputs": [],
   "source": [
    "#Worst model so far"
   ]
  },
  {
   "cell_type": "code",
   "execution_count": 232,
   "metadata": {},
   "outputs": [
    {
     "data": {
      "image/png": "[encoded data removed]",
      "text/plain": [
       "<Figure size 432x288 with 2 Axes>"
      ]
     },
     "metadata": {
      "needs_background": "light"
     },
     "output_type": "display_data"
    }
   ],
   "source": [
    "classifier = SVC(kernel = 'sigmoid')\n",
    "classifier.fit(x_train_scaled[:, [2, 3, 10, 12]],y_train.values.ravel())\n",
    "y_pred = classifier.predict(x_val_scaled[:, [2, 3, 10, 12]])\n",
    "\n",
    "conf_matrix = metrics.confusion_matrix(y_val,y_pred)\n",
    "sns.heatmap(conf_matrix,annot=True,fmt=\".3f\",square = True, cmap = plt.cm.Blues)\n",
    "plt.ylabel('Actual')\n",
    "plt.xlabel('Predicted')\n",
    "plt.title('SVM Sigmoid kernel Confusion Matrix Diabetes Binary')\n",
    "plt.tight_layout()"
   ]
  },
  {
   "cell_type": "code",
   "execution_count": 233,
   "metadata": {},
   "outputs": [
    {
     "name": "stdout",
     "output_type": "stream",
     "text": [
      "[0.8461538461538461, 0.15384615384615385, array([0.76086957, 0.9137931 ]), array([0.875   , 0.828125]), array([0.81395349, 0.86885246])]\n"
     ]
    }
   ],
   "source": [
    "accuracy = metrics.accuracy_score(y_val,y_pred)\n",
    "error = 1 - accuracy\n",
    "precision = metrics.precision_score(y_val,y_pred,average = None)\n",
    "recall = metrics.recall_score(y_val,y_pred,average=None)\n",
    "F1_score = metrics.f1_score(y_val,y_pred,average = None)\n",
    "print([accuracy,error,precision,recall,F1_score])"
   ]
  },
  {
   "cell_type": "code",
   "execution_count": 234,
   "metadata": {},
   "outputs": [],
   "source": [
    "#This is the worst model seen so far and the worst kernel. "
   ]
  },
  {
   "cell_type": "code",
   "execution_count": 235,
   "metadata": {},
   "outputs": [
    {
     "name": "stdout",
     "output_type": "stream",
     "text": [
      "0.1\n"
     ]
    }
   ],
   "source": [
    "# Now try to find the best c value\n",
    "# based on accuracy \n",
    "values = [0.001,0.01,0.1,0.5,1.0,5.0,10]\n",
    "prevAcc = 0.0\n",
    "cVal = -1\n",
    "for v in values:\n",
    "    classifier = SVC(kernel = 'linear', C = v)\n",
    "    classifier.fit(x_train_scaled[:, [2, 3, 4, 10,12]],y_train.values.ravel())\n",
    "    y_pred = classifier.predict(x_val_scaled[:, [2, 3, 4, 10,12]])\n",
    "    accuracy = metrics.accuracy_score(y_val,y_pred)\n",
    "    if(accuracy > prevAcc):\n",
    "        prevAcc = accuracy\n",
    "        cVal = v\n",
    "print(cVal)"
   ]
  },
  {
   "cell_type": "code",
   "execution_count": 236,
   "metadata": {},
   "outputs": [],
   "source": [
    "#Best c val is 0.1 and best kernel is linear\n",
    "classifier = SVC(kernel = 'linear', C = 0.1)\n",
    "classifier.fit(x_train_scaled[:, [2, 3, 4, 10, 12]],y_train.values.ravel())\n",
    "y_pred = classifier.predict(x_val_scaled[:, [2, 3, 4, 10, 12]])"
   ]
  },
  {
   "cell_type": "code",
   "execution_count": 237,
   "metadata": {},
   "outputs": [
    {
     "data": {
      "image/png": "[encoded data removed]",
      "text/plain": [
       "<Figure size 432x288 with 2 Axes>"
      ]
     },
     "metadata": {
      "needs_background": "light"
     },
     "output_type": "display_data"
    }
   ],
   "source": [
    "conf_matrix = metrics.confusion_matrix(y_val,y_pred)\n",
    "sns.heatmap(conf_matrix,annot=True,fmt=\".3f\",square = True, cmap = plt.cm.Blues)\n",
    "plt.ylabel('Actual')\n",
    "plt.xlabel('Predicted')\n",
    "plt.title('SVM linear,c=0.1 kernel Confusion Matrix Diabetes Binary')\n",
    "plt.tight_layout()"
   ]
  },
  {
   "cell_type": "code",
   "execution_count": 238,
   "metadata": {},
   "outputs": [
    {
     "name": "stdout",
     "output_type": "stream",
     "text": [
      "[0.9134615384615384, 0.08653846153846156, array([0.8974359 , 0.92307692]), array([0.875 , 0.9375]), array([0.88607595, 0.93023256])]\n"
     ]
    }
   ],
   "source": [
    "accuracy = metrics.accuracy_score(y_val,y_pred)\n",
    "error = 1 - accuracy\n",
    "precision = metrics.precision_score(y_val,y_pred,average = None)\n",
    "recall = metrics.recall_score(y_val,y_pred,average=None)\n",
    "F1_score = metrics.f1_score(y_val,y_pred,average = None)\n",
    "print([accuracy,error,precision,recall,F1_score])"
   ]
  },
  {
   "cell_type": "code",
   "execution_count": 239,
   "metadata": {},
   "outputs": [],
   "source": [
    "#Around the same as decision tree. Slightly worse than K nearest neighbors with slightly less accuracy\n",
    "# and F1 score is also less than k nearest neighbors"
   ]
  },
  {
   "cell_type": "code",
   "execution_count": 240,
   "metadata": {},
   "outputs": [
    {
     "data": {
      "image/png": "[encoded data removed]",
      "text/plain": [
       "<Figure size 432x288 with 2 Axes>"
      ]
     },
     "metadata": {
      "needs_background": "light"
     },
     "output_type": "display_data"
    }
   ],
   "source": [
    "#Lets see if including all variable will give any insight \n",
    "#For decision tree it doesnt matter which one to choose \n",
    "Eclassifier = DecisionTreeClassifier(criterion=\"entropy\")\n",
    "Eclassifier.fit(x_train_scaled,y_train)\n",
    "y_pred = Eclassifier.predict(x_val_scaled)\n",
    "\n",
    "conf_matrix = metrics.confusion_matrix(y_val,y_pred)\n",
    "sns.heatmap(conf_matrix,annot=True,fmt=\".3f\",square = True, cmap = plt.cm.Blues)\n",
    "plt.ylabel('Actual')\n",
    "plt.xlabel('Predicted')\n",
    "plt.title('Entropy Decision Tree Confusion Matrix Diabetes/Binary All Variables')\n",
    "plt.tight_layout()"
   ]
  },
  {
   "cell_type": "code",
   "execution_count": 241,
   "metadata": {},
   "outputs": [
    {
     "name": "stdout",
     "output_type": "stream",
     "text": [
      "[0.9807692307692307, 0.019230769230769273, array([0.95238095, 1.        ]), array([1.     , 0.96875]), array([0.97560976, 0.98412698])]\n"
     ]
    }
   ],
   "source": [
    "accuracy = metrics.accuracy_score(y_val,y_pred)\n",
    "error = 1 - accuracy\n",
    "precision = metrics.precision_score(y_val,y_pred,average = None)\n",
    "recall = metrics.recall_score(y_val,y_pred,average=None)\n",
    "F1_score = metrics.f1_score(y_val,y_pred,average = None)\n",
    "print([accuracy,error,precision,recall,F1_score])"
   ]
  },
  {
   "cell_type": "code",
   "execution_count": 242,
   "metadata": {},
   "outputs": [],
   "source": [
    "#Much better this time. With the highest accuracy and F1 score yet."
   ]
  },
  {
   "cell_type": "code",
   "execution_count": 245,
   "metadata": {},
   "outputs": [
    {
     "data": {
      "image/png": "[encoded data removed]",
      "text/plain": [
       "<Figure size 432x288 with 2 Axes>"
      ]
     },
     "metadata": {
      "needs_background": "light"
     },
     "output_type": "display_data"
    }
   ],
   "source": [
    "classifier = KNeighborsClassifier(n_neighbors = 10)\n",
    "classifier.fit(x_train_scaled,y_train.values.ravel())\n",
    "y_pred = classifier.predict(x_val_scaled)\n",
    "conf_matrix = metrics.confusion_matrix(y_val,y_pred)\n",
    "sns.heatmap(conf_matrix,annot=True,fmt=\".3f\",square = True, cmap = plt.cm.Blues)\n",
    "plt.ylabel('Actual')\n",
    "plt.xlabel('Predicted')\n",
    "plt.title('K=10 nearest neigbhors Confusion Matrix for Binary Diabetes All Variables')\n",
    "plt.tight_layout()"
   ]
  },
  {
   "cell_type": "code",
   "execution_count": 246,
   "metadata": {},
   "outputs": [
    {
     "name": "stdout",
     "output_type": "stream",
     "text": [
      "[0.9423076923076923, 0.05769230769230771, array([0.88636364, 0.98333333]), array([0.975   , 0.921875]), array([0.92857143, 0.9516129 ])]\n"
     ]
    }
   ],
   "source": [
    "accuracy = metrics.accuracy_score(y_val,y_pred)\n",
    "error = 1 - accuracy\n",
    "precision = metrics.precision_score(y_val,y_pred,average = None)\n",
    "recall = metrics.recall_score(y_val,y_pred,average=None)\n",
    "F1_score = metrics.f1_score(y_val,y_pred,average = None)\n",
    "print([accuracy,error,precision,recall,F1_score])"
   ]
  },
  {
   "cell_type": "code",
   "execution_count": 247,
   "metadata": {},
   "outputs": [],
   "source": [
    "#Slightly better than the original subset but not as good as entropy with all variables"
   ]
  },
  {
   "cell_type": "code",
   "execution_count": 248,
   "metadata": {},
   "outputs": [
    {
     "data": {
      "image/png": "[encoded data removed]",
      "text/plain": [
       "<Figure size 432x288 with 2 Axes>"
      ]
     },
     "metadata": {
      "needs_background": "light"
     },
     "output_type": "display_data"
    }
   ],
   "source": [
    "classifier = SVC(kernel = 'linear', C = 0.1)\n",
    "classifier.fit(x_train_scaled,y_train.values.ravel())\n",
    "y_pred = classifier.predict(x_val_scaled)\n",
    "conf_matrix = metrics.confusion_matrix(y_val,y_pred)\n",
    "sns.heatmap(conf_matrix,annot=True,fmt=\".3f\",square = True, cmap = plt.cm.Blues)\n",
    "plt.ylabel('Actual')\n",
    "plt.xlabel('Predicted')\n",
    "plt.title('SVM linear,c=0.1 kernel Confusion Matrix Diabetes Binary All Variables')\n",
    "plt.tight_layout()"
   ]
  },
  {
   "cell_type": "code",
   "execution_count": 249,
   "metadata": {},
   "outputs": [
    {
     "name": "stdout",
     "output_type": "stream",
     "text": [
      "[0.9423076923076923, 0.05769230769230771, array([0.94736842, 0.93939394]), array([0.9    , 0.96875]), array([0.92307692, 0.95384615])]\n"
     ]
    }
   ],
   "source": [
    "accuracy = metrics.accuracy_score(y_val,y_pred)\n",
    "error = 1 - accuracy\n",
    "precision = metrics.precision_score(y_val,y_pred,average = None)\n",
    "recall = metrics.recall_score(y_val,y_pred,average=None)\n",
    "F1_score = metrics.f1_score(y_val,y_pred,average = None)\n",
    "print([accuracy,error,precision,recall,F1_score])"
   ]
  },
  {
   "cell_type": "code",
   "execution_count": null,
   "metadata": {},
   "outputs": [],
   "source": [
    "#Better model than original subset of variables but still decision tree with all variables is the best. \n",
    "#Best model is decision tree with all variables"
   ]
  }
 ],
 "metadata": {
  "kernelspec": {
   "display_name": "Python 3",
   "language": "python",
   "name": "python3"
  },
  "language_info": {
   "codemirror_mode": {
    "name": "ipython",
    "version": 3
   },
   "file_extension": ".py",
   "mimetype": "text/x-python",
   "name": "python",
   "nbconvert_exporter": "python",
   "pygments_lexer": "ipython3",
   "version": "3.7.6"
  }
 },
 "nbformat": 4,
 "nbformat_minor": 4
}
